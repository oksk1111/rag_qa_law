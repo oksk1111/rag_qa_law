{
 "cells": [
  {
   "cell_type": "code",
   "execution_count": 1,
   "metadata": {},
   "outputs": [
    {
     "data": {
      "text/plain": [
       "True"
      ]
     },
     "execution_count": 1,
     "metadata": {},
     "output_type": "execute_result"
    }
   ],
   "source": [
    "from dotenv import load_dotenv\n",
    "\n",
    "load_dotenv()"
   ]
  },
  {
   "cell_type": "code",
   "execution_count": 2,
   "metadata": {},
   "outputs": [],
   "source": [
    "import bs4\n",
    "from langchain import hub\n",
    "from langchain_community.document_loaders import WebBaseLoader, TextLoader\n",
    "from langchain_chroma import Chroma\n",
    "from langchain_core.output_parsers import StrOutputParser\n",
    "from langchain_core.runnables import RunnablePassthrough\n",
    "from langchain_openai import OpenAIEmbeddings\n",
    "from langchain_text_splitters import RecursiveCharacterTextSplitter"
   ]
  },
  {
   "cell_type": "code",
   "execution_count": 4,
   "metadata": {},
   "outputs": [],
   "source": [
    "from langchain_openai import ChatOpenAI\n",
    "\n",
    "llm = ChatOpenAI(model=\"gpt-3.5-turbo-0125\", temperature=0)"
   ]
  },
  {
   "cell_type": "code",
   "execution_count": 4,
   "metadata": {},
   "outputs": [],
   "source": [
    "# 아래 코드는 옵션이다.\n",
    "# vecstore 를 신규로 만드는 부분.\n",
    "# vecstore가 이미 만들어져 있다면 아래에서, 로컬에서 가져오는 코드를 실행하라.\n",
    "\n",
    "# Load, chunk and index the contents of the blog.\n",
    "loader = TextLoader('../data/law_qa_dataset.csv', encoding='utf-8')\n",
    "docs = loader.load()\n",
    "\n",
    "text_splitter = RecursiveCharacterTextSplitter(chunk_size=1000, chunk_overlap=100, add_start_index=True)\n",
    "splits = text_splitter.split_documents(docs)\n",
    "vectorstore = Chroma.from_documents(documents=splits, embedding=OpenAIEmbeddings(), persist_directory=\"../data/chroma_db\")\n"
   ]
  },
  {
   "cell_type": "code",
   "execution_count": 5,
   "metadata": {},
   "outputs": [],
   "source": [
    "# 해당 부분은 이미 임베딩된 데이터를 로드하는 부분이다.\n",
    "\n",
    "vectorstore = Chroma(persist_directory='../data/chroma_db', embedding_function=OpenAIEmbeddings())"
   ]
  },
  {
   "cell_type": "code",
   "execution_count": 5,
   "metadata": {},
   "outputs": [],
   "source": [
    "retriever = vectorstore.as_retriever(search_type=\"similarity\", search_kwargs={\"k\": 3})"
   ]
  },
  {
   "cell_type": "code",
   "execution_count": 6,
   "metadata": {},
   "outputs": [],
   "source": [
    "retrieved_docs = retriever.invoke(\"실업자도 지역별 노동조합에 가입할 수 있나요?\")"
   ]
  },
  {
   "cell_type": "code",
   "execution_count": 7,
   "metadata": {},
   "outputs": [
    {
     "data": {
      "text/plain": [
       "6"
      ]
     },
     "execution_count": 7,
     "metadata": {},
     "output_type": "execute_result"
    }
   ],
   "source": [
    "len(retrieved_docs)"
   ]
  },
  {
   "cell_type": "code",
   "execution_count": 8,
   "metadata": {},
   "outputs": [
    {
     "name": "stdout",
     "output_type": "stream",
     "text": [
      "\"저는 현재 직장을 구하는 중에 있는 실업자로서, 지역별 노동조합이 생긴다고 하기에 이에 가입하고 싶습니다. 가입이 가능한지요?\",,\"직장생활을 하는 근로자를 보호하기 위한 법률로는 「근로기준법」이 있고, 근로자의 단결권·단체교섭권·단체행동권이라는 근로3권을 보장하기 위한 법률로는 「노동조합 및 노동관계조정법」(이하 ‘노조법’이라 한다)이 있습니다. 「근로기준법」제2조 제1항 제1호에 의하면 ‘근로자’란 직업의 종류와 관계없이 임금을 목적으로 사업이나 사업장에 근로를 제공하는 자를 말하며, 「노조법」제2조 제1호에 의하면 ‘근로자’라 함은 직업의 종류를 불문하고 임금·급료 기타 이에 준하는 수입에 의하여 생활하는 자로 규정하고 있습니다. 또한 「노조법」제2조 제4호는 “‘노동조합’은 근로자가 주체가 되어 자주적으로 단결하여 근로조건의 유지·개선 기타 근로자의 경제적·사회적 지위의 향상을 도모함을 목적으로 조직하는 단체 또는 그 연합단체를 말하며 다만, 같은 호 라목에 의하면 근로자가 아닌 자의 가입을 허용하는 경우 노동조합으로 보지 않는다.”라고 규정하고 있습니다.이와 관련하여 지역별 노동조합이 그 구성원으로 ‘구직중인 여성 노동자’를 포함하여 노동조합설립신고를 한 것에 대하여 판례는 “근로기준법은 ‘현실적으로 근로를 제공하는 자에 대하여 국가의 관리·감독에 의한 직접적인 보호의 필요성이 있는가’라는 관점에서 개별적 노사관계를 규율할 목적으로 제정된 것인 반면에, 노조법은 ‘노무공급자들 사이의 단결권 등을 보장해 줄 필요성이 있는가’라는 관점에서 집단적 노사관계를 규율할 목적으로 제정된 것으로 그 입법목적에 따라 근로자의 개념을 상이하게 정의하고 있는 점, 일정한 사용자에의 종속관계를 조합원의 자격요건으로 하는 기업별 노동조합의 경우와는 달리 산업별·직종별·지역별 노동조합 등의 경우에는 원래부터 일정한 사용자에의 종속관계를 조합원의 자격요건으로 하는 것이 아닌 점에 비추어, 노조법 제2조 제1호 및 제4호 (라)목 본문에서 말하는 ‘근로자’에는 특정한\n"
     ]
    }
   ],
   "source": [
    "print(retrieved_docs[0].page_content)"
   ]
  },
  {
   "cell_type": "markdown",
   "metadata": {},
   "source": [
    "# 새로 질문이 들어왔을 때"
   ]
  },
  {
   "cell_type": "code",
   "execution_count": 9,
   "metadata": {},
   "outputs": [],
   "source": [
    "from langchain_openai import ChatOpenAI\n",
    "\n",
    "llm = ChatOpenAI(model=\"gpt-3.5-turbo-0125\")"
   ]
  },
  {
   "cell_type": "code",
   "execution_count": 10,
   "metadata": {},
   "outputs": [],
   "source": [
    "from langchain import hub\n",
    "\n",
    "prompt = hub.pull(\"rlm/rag-prompt\")"
   ]
  },
  {
   "cell_type": "code",
   "execution_count": 11,
   "metadata": {},
   "outputs": [
    {
     "data": {
      "text/plain": [
       "[HumanMessage(content=\"You are an assistant for question-answering tasks. Use the following pieces of retrieved context to answer the question. If you don't know the answer, just say that you don't know. Use three sentences maximum and keep the answer concise.\\nQuestion: filler question \\nContext: filler context \\nAnswer:\")]"
      ]
     },
     "execution_count": 11,
     "metadata": {},
     "output_type": "execute_result"
    }
   ],
   "source": [
    "example_messages = prompt.invoke(\n",
    "    {\"context\": \"filler context\", \"question\": \"filler question\"}\n",
    ").to_messages()\n",
    "example_messages"
   ]
  },
  {
   "cell_type": "code",
   "execution_count": 12,
   "metadata": {},
   "outputs": [
    {
     "name": "stdout",
     "output_type": "stream",
     "text": [
      "You are an assistant for question-answering tasks. Use the following pieces of retrieved context to answer the question. If you don't know the answer, just say that you don't know. Use three sentences maximum and keep the answer concise.\n",
      "Question: filler question \n",
      "Context: filler context \n",
      "Answer:\n"
     ]
    }
   ],
   "source": [
    "print(example_messages[0].content)"
   ]
  },
  {
   "cell_type": "code",
   "execution_count": 18,
   "metadata": {},
   "outputs": [
    {
     "data": {
      "text/plain": [
       "'예, 지역별 노동조합에는 구직중인 실업자도 포함될 수 있습니다. 노동조합법은 일시적으로 실업 상태에 있는 자나 구직 중인 자도 노동조합에 가입할 수 있음을 명시하고 있습니다. 이에 따라 실업자도 지역별 노동조합에 가입할 수 있습니다.'"
      ]
     },
     "execution_count": 18,
     "metadata": {},
     "output_type": "execute_result"
    }
   ],
   "source": [
    "from langchain_core.output_parsers import StrOutputParser\n",
    "from langchain_core.runnables import RunnablePassthrough\n",
    "\n",
    "def format_docs(docs):\n",
    "    return \"\\n\\n\".join(doc.page_content for doc in docs)\n",
    "\n",
    "\n",
    "rag_chain = (\n",
    "    {\"context\": retriever | format_docs, \"question\": RunnablePassthrough()}\n",
    "    | prompt\n",
    "    | llm\n",
    "    | StrOutputParser()\n",
    ")"
   ]
  },
  {
   "cell_type": "code",
   "execution_count": 14,
   "metadata": {},
   "outputs": [
    {
     "name": "stdout",
     "output_type": "stream",
     "text": [
      "노동조합에 가입 가능한 범위에는 일시적으로 실업 상태에 있는 자나 구직 중인 자도 포함될 수 있습니다. 따라서 실업자도 지역별 노동조합에 가입할 수 있을 것으로 보입니다. 판례에 따르면 노동조합에 구직 중인 실업자가 포함될 수 있다는 내용이 있습니다."
     ]
    }
   ],
   "source": [
    "#rag_chain.invoke(\"실업자도 지역별 노동조합에 가입할 수 있나요?\")\n",
    "\n",
    "for chunk in rag_chain.stream(\"실업자도 지역별 노동조합에 가입할 수 있나요?\"):\n",
    "    print(chunk, end=\"\", flush=True)"
   ]
  },
  {
   "cell_type": "code",
   "execution_count": 17,
   "metadata": {},
   "outputs": [
    {
     "data": {
      "text/plain": [
       "ChatPromptValue(messages=[HumanMessage(content='You are an assistant for question-answering tasks. Use the following pieces of retrieved context to answer the question. If you don\\'t know the answer, just say that you don\\'t know. Use three sentences maximum and keep the answer concise.\\nQuestion: 실업자도 지역별 노동조합에 가입할 수 있나요? \\nContext: \"저는 현재 직장을 구하는 중에 있는 실업자로서, 지역별 노동조합이 생긴다고 하기에 이에 가입하고 싶습니다. 가입이 가능한지요?\",,\"직장생활을 하는 근로자를 보호하기 위한 법률로는 「근로기준법」이 있고, 근로자의 단결권·단체교섭권·단체행동권이라는 근로3권을 보장하기 위한 법률로는 「노동조합 및 노동관계조정법」(이하 ‘노조법’이라 한다)이 있습니다. 「근로기준법」제2조 제1항 제1호에 의하면 ‘근로자’란 직업의 종류와 관계없이 임금을 목적으로 사업이나 사업장에 근로를 제공하는 자를 말하며, 「노조법」제2조 제1호에 의하면 ‘근로자’라 함은 직업의 종류를 불문하고 임금·급료 기타 이에 준하는 수입에 의하여 생활하는 자로 규정하고 있습니다. 또한 「노조법」제2조 제4호는 “‘노동조합’은 근로자가 주체가 되어 자주적으로 단결하여 근로조건의 유지·개선 기타 근로자의 경제적·사회적 지위의 향상을 도모함을 목적으로 조직하는 단체 또는 그 연합단체를 말하며 다만, 같은 호 라목에 의하면 근로자가 아닌 자의 가입을 허용하는 경우 노동조합으로 보지 않는다.”라고 규정하고 있습니다.이와 관련하여 지역별 노동조합이 그 구성원으로 ‘구직중인 여성 노동자’를 포함하여 노동조합설립신고를 한 것에 대하여 판례는 “근로기준법은 ‘현실적으로 근로를 제공하는 자에 대하여 국가의 관리·감독에 의한 직접적인 보호의 필요성이 있는가’라는 관점에서 개별적 노사관계를 규율할 목적으로 제정된 것인 반면에, 노조법은 ‘노무공급자들 사이의 단결권 등을 보장해 줄 필요성이 있는가’라는 관점에서 집단적 노사관계를 규율할 목적으로 제정된 것으로 그 입법목적에 따라 근로자의 개념을 상이하게 정의하고 있는 점, 일정한 사용자에의 종속관계를 조합원의 자격요건으로 하는 기업별 노동조합의 경우와는 달리 산업별·직종별·지역별 노동조합 등의 경우에는 원래부터 일정한 사용자에의 종속관계를 조합원의 자격요건으로 하는 것이 아닌 점에 비추어, 노조법 제2조 제1호 및 제4호 (라)목 본문에서 말하는 ‘근로자’에는 특정한\\n\\n\"저는 현재 직장을 구하는 중에 있는 실업자로서, 지역별 노동조합이 생긴다고 하기에 이에 가입하고 싶습니다. 가입이 가능한지요?\",,\"직장생활을 하는 근로자를 보호하기 위한 법률로는 「근로기준법」이 있고, 근로자의 단결권·단체교섭권·단체행동권이라는 근로3권을 보장하기 위한 법률로는 「노동조합 및 노동관계조정법」(이하 ‘노조법’이라 한다)이 있습니다. 「근로기준법」제2조 제1항 제1호에 의하면 ‘근로자’란 직업의 종류와 관계없이 임금을 목적으로 사업이나 사업장에 근로를 제공하는 자를 말하며, 「노조법」제2조 제1호에 의하면 ‘근로자’라 함은 직업의 종류를 불문하고 임금·급료 기타 이에 준하는 수입에 의하여 생활하는 자로 규정하고 있습니다. 또한 「노조법」제2조 제4호는 “‘노동조합’은 근로자가 주체가 되어 자주적으로 단결하여 근로조건의 유지·개선 기타 근로자의 경제적·사회적 지위의 향상을 도모함을 목적으로 조직하는 단체 또는 그 연합단체를 말하며 다만, 같은 호 라목에 의하면 근로자가 아닌 자의 가입을 허용하는 경우 노동조합으로 보지 않는다.”라고 규정하고 있습니다.이와 관련하여 지역별 노동조합이 그 구성원으로 ‘구직중인 여성 노동자’를 포함하여 노동조합설립신고를 한 것에 대하여 판례는 “근로기준법은 ‘현실적으로 근로를 제공하는 자에 대하여 국가의 관리·감독에 의한 직접적인 보호의 필요성이 있는가’라는 관점에서 개별적 노사관계를 규율할 목적으로 제정된 것인 반면에, 노조법은 ‘노무공급자들 사이의 단결권 등을 보장해 줄 필요성이 있는가’라는 관점에서 집단적 노사관계를 규율할 목적으로 제정된 것으로 그 입법목적에 따라 근로자의 개념을 상이하게 정의하고 있는 점, 일정한 사용자에의 종속관계를 조합원의 자격요건으로 하는 기업별 노동조합의 경우와는 달리 산업별·직종별·지역별 노동조합 등의 경우에는 원래부터 일정한 사용자에의 종속관계를 조합원의 자격요건으로 하는 것이 아닌 점에 비추어, 노조법 제2조 제1호 및 제4호 (라)목 본문에서 말하는 ‘근로자’에는 특정한\\n\\n따라 근로자의 개념을 상이하게 정의하고 있는 점, 일정한 사용자에의 종속관계를 조합원의 자격요건으로 하는 기업별 노동조합의 경우와는 달리 산업별·직종별·지역별 노동조합 등의 경우에는 원래부터 일정한 사용자에의 종속관계를 조합원의 자격요건으로 하는 것이 아닌 점에 비추어, 노조법 제2조 제1호 및 제4호 (라)목 본문에서 말하는 ‘근로자’에는 특정한 사용자에게 고용되어 현실적으로 취업하고 있는 자뿐만 아니라, 일시적으로 실업 상태에 있는 자나 구직중인 자도 노동3권을 보장할 필요성이 있는 한 그 범위에 포함된다.”라고 하였습니다(대법원 2004. 2. 27. 선고 2001두8568 판결).이에 비추어 볼때 지역별 노동조합이 그 구성원으로 구직중인 실업자도 포함시키도록 하고 있다면, 귀하도 노동조합에 가입이 가능할 것으로 보입니다.\"\\n\\n따라 근로자의 개념을 상이하게 정의하고 있는 점, 일정한 사용자에의 종속관계를 조합원의 자격요건으로 하는 기업별 노동조합의 경우와는 달리 산업별·직종별·지역별 노동조합 등의 경우에는 원래부터 일정한 사용자에의 종속관계를 조합원의 자격요건으로 하는 것이 아닌 점에 비추어, 노조법 제2조 제1호 및 제4호 (라)목 본문에서 말하는 ‘근로자’에는 특정한 사용자에게 고용되어 현실적으로 취업하고 있는 자뿐만 아니라, 일시적으로 실업 상태에 있는 자나 구직중인 자도 노동3권을 보장할 필요성이 있는 한 그 범위에 포함된다.”라고 하였습니다(대법원 2004. 2. 27. 선고 2001두8568 판결).이에 비추어 볼때 지역별 노동조합이 그 구성원으로 구직중인 실업자도 포함시키도록 하고 있다면, 귀하도 노동조합에 가입이 가능할 것으로 보입니다.\"\\n\\n사용하는 사업 또는 사업장’이라고 함은 근로자 수가 때때로 5인 미만이 되는 경우가 있어도 상태적으로 5인 이상이 되는 경우에는 이에 해당하고, 나아가 당해 사업장에 계속 근무하는 근로자뿐 아니라 그때 그때의 필요에 의하여 사용하는 일용근로자도 포함하는 것이다.”라고 하였습니다(대법원 1997. 11. 28. 선고 97다28971 판결, 2000. 3. 14. 선고 99도1243 판결 ※ 상시고용근로자수=일정기간 내의 고용자 연인원수/일정사업기간내 가동일수).따라서 귀하의 경우 외국인회사의 한국지부라도 속지주의 원칙상 한국인 노동자를 고용하여 사용자의 지위를 가지는 한 자연인이나 법인을 불문하고 근로기준법상의 규정 및 의무를 준수·이행할 의무가 있으므로, 사용자가 근로기준법에 위반할 경우에는 고용노동부 지방노동사무소에 고발하거나 법원에 민사상 소송을 청구할 수 있음은 물론이고, 이외에 별도로 노동위원회에 구제신청도 할 수 있다 하겠습니다.\"\\n\\n사용하는 사업 또는 사업장’이라고 함은 근로자 수가 때때로 5인 미만이 되는 경우가 있어도 상태적으로 5인 이상이 되는 경우에는 이에 해당하고, 나아가 당해 사업장에 계속 근무하는 근로자뿐 아니라 그때 그때의 필요에 의하여 사용하는 일용근로자도 포함하는 것이다.”라고 하였습니다(대법원 1997. 11. 28. 선고 97다28971 판결, 2000. 3. 14. 선고 99도1243 판결 ※ 상시고용근로자수=일정기간 내의 고용자 연인원수/일정사업기간내 가동일수).따라서 귀하의 경우 외국인회사의 한국지부라도 속지주의 원칙상 한국인 노동자를 고용하여 사용자의 지위를 가지는 한 자연인이나 법인을 불문하고 근로기준법상의 규정 및 의무를 준수·이행할 의무가 있으므로, 사용자가 근로기준법에 위반할 경우에는 고용노동부 지방노동사무소에 고발하거나 법원에 민사상 소송을 청구할 수 있음은 물론이고, 이외에 별도로 노동위원회에 구제신청도 할 수 있다 하겠습니다.\" \\nAnswer:')])"
      ]
     },
     "execution_count": 17,
     "metadata": {},
     "output_type": "execute_result"
    }
   ],
   "source": [
    "chain = (\n",
    "    {\"context\": retriever | format_docs, \"question\": RunnablePassthrough()}\n",
    "    | prompt\n",
    ")\n",
    "chain.invoke(\"실업자도 지역별 노동조합에 가입할 수 있나요?\")"
   ]
  },
  {
   "cell_type": "code",
   "execution_count": 13,
   "metadata": {},
   "outputs": [
    {
     "data": {
      "text/plain": [
       "'law'"
      ]
     },
     "execution_count": 13,
     "metadata": {},
     "output_type": "execute_result"
    }
   ],
   "source": [
    "from langchain_core.prompts import ChatPromptTemplate, MessagesPlaceholder\n",
    "\n",
    "prompt = ChatPromptTemplate.from_messages(\n",
    "    [\n",
    "        (\n",
    "            \"system\",\n",
    "            \"\"\"\n",
    "            For questions related to the law, print it as 'law', for everything else, print it as 'etc'.\n",
    "            e.g. worker rights -> law\n",
    "            e.g. entertainment industry articles, sports related news -> etc\n",
    "            \"\"\"\n",
    "        ),\n",
    "        (\"user\", \"{input}\")\n",
    "    ]\n",
    ")\n",
    "\n",
    "chain = (\n",
    "    prompt\n",
    "    | llm\n",
    "    | StrOutputParser()\n",
    ")\n",
    "chain.invoke(\"실업자도 지역별 노동조합에 가입할 수 있나요?\")"
   ]
  },
  {
   "cell_type": "code",
   "execution_count": 15,
   "metadata": {},
   "outputs": [
    {
     "data": {
      "text/plain": [
       "'etc'"
      ]
     },
     "execution_count": 15,
     "metadata": {},
     "output_type": "execute_result"
    }
   ],
   "source": [
    "chain.invoke(\"뉴진스 사태에 대해서 알려줘\")"
   ]
  },
  {
   "cell_type": "code",
   "execution_count": null,
   "metadata": {},
   "outputs": [],
   "source": []
  }
 ],
 "metadata": {
  "kernelspec": {
   "display_name": "lc_rag",
   "language": "python",
   "name": "python3"
  },
  "language_info": {
   "codemirror_mode": {
    "name": "ipython",
    "version": 3
   },
   "file_extension": ".py",
   "mimetype": "text/x-python",
   "name": "python",
   "nbconvert_exporter": "python",
   "pygments_lexer": "ipython3",
   "version": "3.11.5"
  }
 },
 "nbformat": 4,
 "nbformat_minor": 2
}
