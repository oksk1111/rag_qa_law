{
 "cells": [
  {
   "cell_type": "code",
   "execution_count": 1,
   "metadata": {},
   "outputs": [
    {
     "ename": "",
     "evalue": "",
     "output_type": "error",
     "traceback": [
      "\u001b[1;31mThe Kernel crashed while executing code in the current cell or a previous cell. \n",
      "\u001b[1;31mPlease review the code in the cell(s) to identify a possible cause of the failure. \n",
      "\u001b[1;31mClick <a href='https://aka.ms/vscodeJupyterKernelCrash'>here</a> for more info. \n",
      "\u001b[1;31mView Jupyter <a href='command:jupyter.viewOutput'>log</a> for further details."
     ]
    }
   ],
   "source": [
    "import glob\n",
    "import json\n",
    "import csv\n",
    "\n",
    "import time\n",
    "\n",
    "\n",
    "start = time.time()\n",
    "#import pandas as pd\n",
    "from flatten_json import flatten\n",
    "\n",
    "#Path of jsonl file\n",
    "File_path = './law_qa_dataset.jsonl'\n",
    "#reading all jsonl files\n",
    "files = [f for f in glob.glob( File_path + \"**/*.jsonl\", recursive=True)]\n",
    "\n",
    "i=0\n",
    "for f in files:\n",
    "    with open(f, 'r') as F:\n",
    "        for line in F:\n",
    "#flatten json files \n",
    "            data = json.loads(line)\n",
    "            data_1=flatten(data)\n",
    "#creating csv files  ls\n",
    "            with open('path-to-csv-file.csv', 'a' , newline='') as f:\n",
    "                thewriter = csv.writer(f)\n",
    "#headers should be the Key values from json files that make Coulmn header\n",
    "                thewriter.writerow([data_1['header1'],data_1['header2']])"
   ]
  },
  {
   "cell_type": "code",
   "execution_count": null,
   "metadata": {},
   "outputs": [],
   "source": []
  }
 ],
 "metadata": {
  "kernelspec": {
   "display_name": "lc_rag",
   "language": "python",
   "name": "python3"
  },
  "language_info": {
   "codemirror_mode": {
    "name": "ipython",
    "version": 3
   },
   "file_extension": ".py",
   "mimetype": "text/x-python",
   "name": "python",
   "nbconvert_exporter": "python",
   "pygments_lexer": "ipython3",
   "version": "3.11.5"
  }
 },
 "nbformat": 4,
 "nbformat_minor": 2
}
