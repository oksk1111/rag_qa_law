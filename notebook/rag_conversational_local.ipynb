{
 "cells": [
  {
   "cell_type": "code",
   "execution_count": 1,
   "metadata": {},
   "outputs": [
    {
     "data": {
      "text/plain": [
       "True"
      ]
     },
     "execution_count": 1,
     "metadata": {},
     "output_type": "execute_result"
    }
   ],
   "source": [
    "from dotenv import load_dotenv\n",
    "\n",
    "load_dotenv()"
   ]
  },
  {
   "cell_type": "code",
   "execution_count": 2,
   "metadata": {},
   "outputs": [],
   "source": [
    "import bs4\n",
    "from langchain import hub\n",
    "from langchain.chains import create_retrieval_chain\n",
    "from langchain.chains.combine_documents import create_stuff_documents_chain\n",
    "from langchain_chroma import Chroma\n",
    "from langchain_community.document_loaders import WebBaseLoader\n",
    "from langchain_core.output_parsers import StrOutputParser\n",
    "from langchain_core.prompts import ChatPromptTemplate\n",
    "from langchain_core.runnables import RunnablePassthrough\n",
    "from langchain_openai import OpenAIEmbeddings\n",
    "from langchain_text_splitters import RecursiveCharacterTextSplitter"
   ]
  },
  {
   "cell_type": "code",
   "execution_count": 3,
   "metadata": {},
   "outputs": [],
   "source": [
    "from langchain_openai import ChatOpenAI\n",
    "\n",
    "llm = ChatOpenAI(model=\"gpt-3.5-turbo-0125\")"
   ]
  },
  {
   "cell_type": "code",
   "execution_count": 4,
   "metadata": {},
   "outputs": [],
   "source": [
    "# 1. Load, chunk and index the contents of the blog to create a retriever.\n",
    "\n",
    "vectorstore = Chroma(persist_directory='../data/chroma_db', embedding_function=OpenAIEmbeddings())"
   ]
  },
  {
   "cell_type": "code",
   "execution_count": 5,
   "metadata": {},
   "outputs": [],
   "source": [
    "retriever = vectorstore.as_retriever()"
   ]
  },
  {
   "cell_type": "code",
   "execution_count": 6,
   "metadata": {},
   "outputs": [],
   "source": [
    "# 2. Incorporate the retriever into a question-answering chain.\n",
    "### Contextualize question ###\n",
    "system_prompt = (\n",
    "    \"You are an assistant for question-answering tasks. \"\n",
    "    \"Use the following pieces of retrieved context to answer \"\n",
    "    \"the question. If you don't know the answer, say that you \"\n",
    "    \"don't know. Use three sentences maximum and keep the \"\n",
    "    \"answer concise.\"\n",
    "    \"\\n\\n\"\n",
    "    \"{context}\"\n",
    ")\n",
    "\n",
    "prompt = ChatPromptTemplate.from_messages(\n",
    "    [\n",
    "        (\"system\", system_prompt),\n",
    "        (\"human\", \"{input}\"),\n",
    "    ]\n",
    ")\n",
    "\n",
    "question_answer_chain = create_stuff_documents_chain(llm, prompt)\n",
    "rag_chain = create_retrieval_chain(retriever, question_answer_chain)"
   ]
  },
  {
   "cell_type": "code",
   "execution_count": 7,
   "metadata": {},
   "outputs": [
    {
     "data": {
      "text/plain": [
       "'실업자나 구직중인 자도 노동조합에 가입이 가능합니다. 대법원은 일시적으로 실업 상태에 있는 자나 구직중인 자도 노동3권을 보장할 필요성이 있는 한 노동조합의 범위에 포함된다고 판결하였습니다. 따라서, 지역별 노동조합이 구직중인 실업자를 포함시킬 경우 가입이 가능합니다.'"
      ]
     },
     "execution_count": 7,
     "metadata": {},
     "output_type": "execute_result"
    }
   ],
   "source": [
    "response = rag_chain.invoke({\"input\": \"실업자도 지역별 노동조합에 가입할 수 있나요?\"})\n",
    "response[\"answer\"]"
   ]
  },
  {
   "cell_type": "markdown",
   "metadata": {},
   "source": [
    "# Adding chat history"
   ]
  },
  {
   "cell_type": "code",
   "execution_count": 8,
   "metadata": {},
   "outputs": [],
   "source": [
    "from langchain.chains import create_history_aware_retriever\n",
    "from langchain_core.prompts import MessagesPlaceholder\n",
    "\n",
    "### Contextualize question ###\n",
    "contextualize_q_system_prompt = (\n",
    "    \"Given a chat history and the latest user question \"\n",
    "    \"which might reference context in the chat history, \"\n",
    "    \"formulate a standalone question which can be understood \"\n",
    "    \"without the chat history. Do NOT answer the question, \"\n",
    "    \"just reformulate it if needed and otherwise return it as is.\"\n",
    ")\n",
    "\n",
    "contextualize_q_prompt = ChatPromptTemplate.from_messages(\n",
    "    [\n",
    "        (\"system\", contextualize_q_system_prompt),\n",
    "        MessagesPlaceholder(\"chat_history\"),\n",
    "        (\"human\", \"{input}\"),\n",
    "    ]\n",
    ")\n",
    "history_aware_retriever = create_history_aware_retriever(\n",
    "    llm, retriever, contextualize_q_prompt\n",
    ")"
   ]
  },
  {
   "cell_type": "code",
   "execution_count": 9,
   "metadata": {},
   "outputs": [],
   "source": [
    "# OK\n",
    "from langchain.chains import create_retrieval_chain\n",
    "from langchain.chains.combine_documents import create_stuff_documents_chain\n",
    "\n",
    "qa_prompt = ChatPromptTemplate.from_messages(\n",
    "    [\n",
    "        (\"system\", system_prompt),\n",
    "        MessagesPlaceholder(\"chat_history\"),\n",
    "        (\"human\", \"{input}\"),\n",
    "    ]\n",
    ")\n",
    "\n",
    "\n",
    "question_answer_chain = create_stuff_documents_chain(llm, qa_prompt)\n",
    "\n",
    "rag_chain = create_retrieval_chain(history_aware_retriever, question_answer_chain)"
   ]
  },
  {
   "cell_type": "code",
   "execution_count": 12,
   "metadata": {},
   "outputs": [
    {
     "name": "stdout",
     "output_type": "stream",
     "text": [
      "최저임금은 국가에서 임금의 최저한도를 정하여 사용자에게 이를 준수하도록 강제하는 제도이며, 사용자는 최저임금액 이상을 지급하여야 합니다. 현재 고용노동부에서 고시한 2016년 1월 1일부터 2016년 12월 31일까지 적용되는 최저임금액은 시간당 6,030원으로 정해져 있습니다.\n",
      "[HumanMessage(content='실업자도 지역별 노동조합에 가입할 수 있나요?'), AIMessage(content='실업자도 노동조합에 가입할 수 있습니다. 대법원 판례에 따르면, 노동조합법에서 근로자로 보호되는 범위에는 일시적으로 실업 상태에 있는 자나 구직 중인 자도 포함되기 때문입니다. 따라서, 실업자도 노동조합에 가입할 수 있는 것으로 보입니다.'), HumanMessage(content='실업자도 지역별 노동조합에 가입할 수 있나요?'), AIMessage(content='최저임금은 국가에서 임금의 최저한도를 정하여 사용자에게 이를 준수하도록 강제하는 제도이며, 사용자는 최저임금액 이상을 지급하여야 합니다. 현재 고용노동부에서 고시한 2016년 1월 1일부터 2016년 12월 31일까지 적용되는 최저임금액은 시간당 6,030원으로 정해져 있습니다.')]\n"
     ]
    }
   ],
   "source": [
    "from langchain_core.messages import AIMessage, HumanMessage\n",
    "\n",
    "chat_history = []\n",
    "\n",
    "question = \"실업자도 지역별 노동조합에 가입할 수 있나요?\"\n",
    "ai_msg_1 = rag_chain.invoke({\"input\": question, \"chat_history\": chat_history})\n",
    "chat_history.extend(\n",
    "    [\n",
    "        HumanMessage(content=question),\n",
    "        AIMessage(content=ai_msg_1[\"answer\"]),\n",
    "    ]\n",
    ")\n",
    "\n",
    "second_question = \"그때 최저임금은 어떻게 될까요?\"\n",
    "ai_msg_2 = rag_chain.invoke({\"input\": second_question, \"chat_history\": chat_history})\n",
    "chat_history.extend(\n",
    "    [\n",
    "        HumanMessage(content=second_question),\n",
    "        AIMessage(content=ai_msg_2[\"answer\"]),\n",
    "    ]\n",
    ")\n",
    "\n",
    "print(ai_msg_2[\"answer\"])\n",
    "print(chat_history)"
   ]
  },
  {
   "cell_type": "markdown",
   "metadata": {},
   "source": [
    "아래는 다른 방식 (대화 연결을 더 쉽게 하는 방식이라고 함)"
   ]
  },
  {
   "cell_type": "code",
   "execution_count": 15,
   "metadata": {},
   "outputs": [],
   "source": [
    "### Statefully manage chat history ###\n",
    "\n",
    "from langchain_community.chat_message_histories import ChatMessageHistory\n",
    "from langchain_core.chat_history import BaseChatMessageHistory\n",
    "from langchain_core.runnables.history import RunnableWithMessageHistory\n",
    "\n",
    "store = {}\n",
    "\n",
    "def get_session_history(session_id: str) -> BaseChatMessageHistory:\n",
    "    if session_id not in store:\n",
    "        store[session_id] = ChatMessageHistory()\n",
    "    return store[session_id]\n",
    "\n",
    "\n",
    "conversational_rag_chain = RunnableWithMessageHistory(\n",
    "    rag_chain,\n",
    "    get_session_history,\n",
    "    input_message_key=\"input\",\n",
    "    history_messages_key=\"chat_history\",\n",
    "    output_messages_key=\"answer\",\n",
    ")"
   ]
  },
  {
   "cell_type": "code",
   "execution_count": 16,
   "metadata": {},
   "outputs": [
    {
     "data": {
      "text/plain": [
       "'네, 지역별 노동조합은 구직 중인 실업자도 포함하여 가입이 가능합니다. 노동조합에는 특정 사용자에게 고용되어 있거나 구직 중인 자도 포함될 수 있으며, 근로자의 노동3권을 보장하는 것이 중요하다고 합니다. 따라서 실업 중인 경우에도 지역별 노동조합에 가입할 수 있습니다.'"
      ]
     },
     "execution_count": 16,
     "metadata": {},
     "output_type": "execute_result"
    }
   ],
   "source": [
    "conversational_rag_chain.invoke(\n",
    "    {\"input\": \"실업자도 지역별 노동조합에 가입할 수 있나요?\"},\n",
    "    config={\n",
    "        \"configurable\": {\"session_id\": \"abc123\"}\n",
    "        # constructs a key \"abc123\" in `store`.\n",
    "    },\n",
    ")[\"answer\"]"
   ]
  },
  {
   "cell_type": "code",
   "execution_count": 17,
   "metadata": {},
   "outputs": [
    {
     "data": {
      "text/plain": [
       "'죄송합니다, 최저임금은 시간당 금액으로 정해지며, 그 금액은 해당 국가의 법률 및 정부 정책에 따라 매년 변경됩니다. 최저임금은 근로자의 생계비, 유사근로자의 임금, 노동생산성, 소득분배율 등을 고려하여 결정되며, 법률에 따라 최저임금심의위원회가 심의하여 결정됩니다.따라서 특정 연도의 최저임금은 해당 연도의 법률 및 정책에 따라 달라질 수 있습니다.'"
      ]
     },
     "execution_count": 17,
     "metadata": {},
     "output_type": "execute_result"
    }
   ],
   "source": [
    "conversational_rag_chain.invoke(\n",
    "    {\"input\": \"그때 최저임금은 어떻게 될까요?\"},\n",
    "    config={\"configurable\": {\"session_id\": \"abc123\"}},\n",
    ")[\"answer\"]"
   ]
  },
  {
   "cell_type": "code",
   "execution_count": 18,
   "metadata": {},
   "outputs": [
    {
     "name": "stdout",
     "output_type": "stream",
     "text": [
      "User: 실업자도 지역별 노동조합에 가입할 수 있나요?\n",
      "\n",
      "AI: 네, 지역별 노동조합은 구직 중인 실업자도 포함하여 가입이 가능합니다. 노동조합에는 특정 사용자에게 고용되어 있거나 구직 중인 자도 포함될 수 있으며, 근로자의 노동3권을 보장하는 것이 중요하다고 합니다. 따라서 실업 중인 경우에도 지역별 노동조합에 가입할 수 있습니다.\n",
      "\n",
      "User: 그때 최저임금은 어떻게 될까요?\n",
      "\n",
      "AI: 죄송합니다, 최저임금은 시간당 금액으로 정해지며, 그 금액은 해당 국가의 법률 및 정부 정책에 따라 매년 변경됩니다. 최저임금은 근로자의 생계비, 유사근로자의 임금, 노동생산성, 소득분배율 등을 고려하여 결정되며, 법률에 따라 최저임금심의위원회가 심의하여 결정됩니다.따라서 특정 연도의 최저임금은 해당 연도의 법률 및 정책에 따라 달라질 수 있습니다.\n",
      "\n"
     ]
    }
   ],
   "source": [
    "for message in store[\"abc123\"].messages:\n",
    "    if isinstance(message, AIMessage):\n",
    "        prefix = \"AI\"\n",
    "    else:\n",
    "        prefix = \"User\"\n",
    "\n",
    "    print(f\"{prefix}: {message.content}\\n\")"
   ]
  },
  {
   "cell_type": "markdown",
   "metadata": {},
   "source": [
    "# Agents\n",
    "답변을 예측하기 어렵다는 단점이 있지만 맥락을 위와 같이 주지 않아도 된다고 한다.<br>\n",
    "컨텍스트화를 명시적으로 구축할 필요 없이 검색기에 대한 입력을 직접 생성"
   ]
  },
  {
   "cell_type": "code",
   "execution_count": 7,
   "metadata": {},
   "outputs": [],
   "source": [
    "# retrieval tool\n",
    "\n",
    "from langchain.tools.retriever import create_retriever_tool\n",
    "\n",
    "tool = create_retriever_tool(\n",
    "    retriever,\n",
    "    \"law_qna_retriever\",\n",
    "    \"Searches and returns exceprts from the Autonomous Agents Q&A.\",\n",
    ")\n",
    "tools = [tool]"
   ]
  },
  {
   "cell_type": "code",
   "execution_count": 22,
   "metadata": {},
   "outputs": [
    {
     "data": {
      "text/plain": [
       "'경우에는 원래부터 일정한 사용자에의 종속관계를 조합원의 자격요건으로 하는 것이 아닌 점에 비추어, 노조법 제2조 제1호 및 제4호 (라)목 본문에서 말하는 ‘근로자’에는 특정한 사용자에게 고용되어 현실적으로 취업하고 있는 자뿐만 아니라, 일시적으로 실업 상태에 있는 자나 구직중인 자도 노동3권을 보장할 필요성이 있는 한 그 범위에 포함된다.”라고 하였습니다(대법원 2004. 2. 27. 선고 2001두8568 판결).이에 비추어 볼때 지역별 노동조합이 그 구성원으로 구직중인 실업자도 포함시키도록 하고 있다면, 귀하도 노동조합에 가입이 가능할 것으로 보입니다.\"\\n\\n\"동네 수퍼마켓들이 모여 협동조합을 운영해 왔는데, 성과가 매우 좋아 다른 지역의 수퍼마켓협동조합들과의 연합회 설립도 추진하려 합니다. 협동조합연합회는 어떻게 설립하면 되나요?\",,\"현대 자본주의 시장경제 구조에서 대기업과의 경쟁 및 사업역량 강화를 위해 \"\"협동조합 또는 사회적 협동조합 사이의 협동\"\"은 선택이 아니라 필수라고 할 수 있으며, 같은 유형의 협동조합 또는 사회적협동조합들의 연합회 구성은 그러한 협동방법 중 하나입니다.협동조합연합회의 신규설립은 발기인 모집 → 정관 작성 → 설립동의자 모집 → 창립총회 개최 → 설립신고 → 발기인의 이사장에 대한 사무인계 → 조합원의 출자금 등 납입 → 설립등기의 단계를 거쳐 진행됩니다.\"\\n\"주택연금에 가입하려는데 가입 시 어떤 비용이 얼마나 드는지, 가입 후에 추가로 드는 비용이 있는지 궁금합니다.\",,\"주택연금 가입 시 가입자는 초기보증료, 근저당권 설정을 위한 법무사 비용, 등록면허세 및 지방교육세 등 세금, 대출기관 인지세(주택감정평가를 요청한 경우), 감정평가 비용 등의 비용을 부담합니다. 주택연금 가입이후에는 대출잔액에 대해 매월 일정 비율의 연보증료를 부담합니다.\"\\n불법체류인 상태로 공장에서 근무하다가 다쳤는데 회사에서 병원비를 줄 수 없다고 합니다. 「산업재해보상보험법」의 요양급여를 받을 수 있나요?,,\"불법체류 외국인근로자도 근로를 제공하는 한 근로자로 보아야 하므로 「산업재해보상보험법」에 따른 요양급여를 받을 수 있습니다.\\n\\n\"저는 현재 직장을 구하는 중에 있는 실업자로서, 지역별 노동조합이 생긴다고 하기에 이에 가입하고 싶습니다. 가입이 가능한지요?\",,\"직장생활을 하는 근로자를 보호하기 위한 법률로는 「근로기준법」이 있고, 근로자의 단결권·단체교섭권·단체행동권이라는 근로3권을 보장하기 위한 법률로는 「노동조합 및 노동관계조정법」(이하 ‘노조법’이라 한다)이 있습니다. 「근로기준법」제2조 제1항 제1호에 의하면 ‘근로자’란 직업의 종류와 관계없이 임금을 목적으로 사업이나 사업장에 근로를 제공하는 자를 말하며, 「노조법」제2조 제1호에 의하면 ‘근로자’라 함은 직업의 종류를 불문하고 임금·급료 기타 이에 준하는 수입에 의하여 생활하는 자로 규정하고 있습니다. 또한 「노조법」제2조 제4호는 “‘노동조합’은 근로자가 주체가 되어 자주적으로 단결하여 근로조건의 유지·개선 기타 근로자의 경제적·사회적 지위의 향상을 도모함을 목적으로 조직하는 단체 또는 그 연합단체를 말하며 다만, 같은 호 라목에 의하면 근로자가 아닌 자의 가입을 허용하는 경우 노동조합으로 보지 않는다.”라고 규정하고 있습니다.이와 관련하여 지역별 노동조합이 그 구성원으로 ‘구직중인 여성 노동자’를 포함하여 노동조합설립신고를 한 것에 대하여 판례는 “근로기준법은 ‘현실적으로 근로를 제공하는 자에 대하여 국가의 관리·감독에 의한 직접적인 보호의 필요성이 있는가’라는 관점에서 개별적 노사관계를 규율할 목적으로 제정된 것인 반면에, 노조법은 ‘노무공급자들 사이의 단결권 등을 보장해 줄 필요성이 있는가’라는 관점에서 집단적 노사관계를 규율할 목적으로 제정된 것으로 그 입법목적에 따라 근로자의 개념을 상이하게 정의하고 있는 점, 일정한 사용자에의 종속관계를 조합원의 자격요건으로 하는 기업별 노동조합의 경우와는 달리 산업별·직종별·지역별 노동조합 등의 경우에는 원래부터 일정한 사용자에의 종속관계를 조합원의 자격요건으로 하는 것이 아닌 점에 비추어, 노조법 제2조 제1호 및 제4호 (라)목 본문에서 말하는 ‘근로자’에는 특정한\\n\\n지역별 노동조합인 甲은 조합원 중 1명이 구직자라고 하여 노동조합법상 근로자가 아니라고 할 수는 없다는 이유로 노동조합 설립신고를 반려 당했습니다. 하지만 甲의 조합원은 일시적인 실업상태에 있어 언제든 재취업을 할 수 있기 때문에 위 반려처분이 위법하다고 주장하고 싶습니다.,,\"노동조합 및 노동관계조정법 제2조 제4호 라목 단서는 “해고된 자가 노동위원회에 부당노동행위의 구제신청을 한 경우에는 중앙노동위원회의 재심판정이 있을 때까지는 근로자가 아닌 자로 해석하여서는 아니된다.”고 규정하고 있습니다. 위 규정은 일정한 사용자와의 종속관계가 전제되지 않는 산업별·직종별·지역별 노동조합이 아니라 기업별 노동조합의 조합원이 해고되어 근로자성이 부인될 경우에만 한정적으로 적용된다고 보아야 한다는 대법원 판례가 있습니다.(2015. 1. 29.선고 2012두28247판결)  이에 해당한다면 근로자성이 여전히 인정되어 노동조합에 가입할 수 있고, 설령 그렇지 않더라도 일시적인 실업 상태에 있거나 구직 중인 사람도 노동3권을 보장할 필요성이 있는 한 그 범위에 포함된다는 것이 대법원의 태도입니다.\"'"
      ]
     },
     "execution_count": 22,
     "metadata": {},
     "output_type": "execute_result"
    }
   ],
   "source": [
    "tool.invoke(\"실업자도 지역별 노동조합에 가입할 수 있나요?\")"
   ]
  },
  {
   "cell_type": "code",
   "execution_count": 8,
   "metadata": {},
   "outputs": [],
   "source": [
    "# Agent constructor\n",
    "\n",
    "from langgraph.prebuilt import chat_agent_executor\n",
    "\n",
    "agent_executor = chat_agent_executor.create_tool_calling_executor(llm, tools)"
   ]
  },
  {
   "cell_type": "code",
   "execution_count": 30,
   "metadata": {},
   "outputs": [
    {
     "name": "stdout",
     "output_type": "stream",
     "text": [
      "{'agent': {'messages': [AIMessage(content='', additional_kwargs={'tool_calls': [{'id': 'call_HKs7ixXLq3o1uh0kYFiZLzR1', 'function': {'arguments': '{\"query\":\"Task Decomposition\"}', 'name': 'law_qna_retriever'}, 'type': 'function'}]}, response_metadata={'token_usage': {'completion_tokens': 21, 'prompt_tokens': 71, 'total_tokens': 92}, 'model_name': 'gpt-3.5-turbo-0125', 'system_fingerprint': None, 'finish_reason': 'tool_calls', 'logprobs': None}, id='run-670a0284-aa0c-4ad5-9672-6d2be4bbcd5a-0', tool_calls=[{'name': 'law_qna_retriever', 'args': {'query': 'Task Decomposition'}, 'id': 'call_HKs7ixXLq3o1uh0kYFiZLzR1'}])]}}\n",
      "----\n",
      "{'tools': {'messages': [ToolMessage(content='있는 권한이 부여됩니다.     결국 도시?군계획시설결정과 실시계획인가는 도시?군계획시설사업을 위하여 이루어지는 단계적 행정절차에서 별도의 요건과 절차에 따라 별개의 법률효과를 발생시키는 독립적인 행정처분입니다. 그러므로 선행처분인 도시?군계획시설결정에 하자가 있더라도 그것이 당연무효가 아닌 한 원칙적으로 후행처분인 실시계획인가에 승계되지 않는다고 할 것입니다(대법원 2017. 7. 18. 선고 2016두49938 판결참조).                   \"\\n\\n한 건물의 구조에 따른 객관적인 용도에 의하여 결정됩니다. 따라서 구분건물에 관하여 구분소유가 성립될 당시 객관적인 용도가 공용부분인 건물부분을 나중에 임의로 개조하는 등으로 이용 상황을 변경하거나 집합건축물대장에 전유부분으로 등록하고 소유권보존등기를 하였더라도 그로써 공용부분이 전유부분이 되어 어느 구분소유자의 전속적인 소유권의 객체가 되지 않습니다.\"\\n\\n\"선행처분인 도시?군계획시설결정에 하자가 있는 경우, 그 하자가 후행처분인 실시계획인가에 승계되는지요?\",,\"하자가 승계되기 위해서는 ① 선행행위인 행정행위가 ② 당연무효사유가 아닌 취소사유인 하자가 존재하고 ③ 선행행위의 하자를 제소기간 내에 다투지 않아 선행행위에 불가쟁력이 발생하고 ④ 후행행위에 하자가 없어 적법할 것을 요합니다. 그런데 선행처분과 후행처분이 서로 독립하여 별개의 법률효과를 발생시키는 경우에는 선행처분에 불가쟁력이 생겨 그 효력을 다툴 수 없게 되면 선행처분의 하자가 당연무효인 경우를 제외하고는 특별한 사정이 없는 한 선행처분의 하자를 이유로 후행처분의 효력을 다툴 수 없는 것이 원칙입니다.  도시?군계획시설은 도시?군관리계획결정에 따라 설치되는데, 도시?군계획시설결정은 국토의 계획 및 이용에 관한 법령에 따라 도시?군관리계획결정에 일반적으로 요구되는 기초조사, 주민과 지방의회의 의견 청취, 관계 행정기관장과의 협의나 도시계획위원회 심의 등의 절차를 밟아야 하고, 이러한 절차를 거쳐 도시?군계획시설결정이 이루어지면 도시?군계획시설의 종류에 따른 사업대상지의 위치와 면적이 확정되며 그 사업대상지에서는 원칙적으로 도시?군계획시설이 아닌 건축물 등의 허가가 금지됩니다(국토의 계획 및 이용에 관한 법률 제64조).     반면 실시계획인가는 도시?군계획시설결정에 따른 특정 사업을 구체화하여 이를 실현하는 것으로서, 시?도지사는 도시?군계획시설사업의 시행자가 작성한 실시계획이 도시?군계획시설의 결정?구조 및 설치의 기준 등에 적합하다고 인정하는 경우에는 이를 인가하여야 합니다(국토의 계획 및 이용에 관한 법률 제88조 제3항, 제43조 제2항). 이러한 실시계획인가를 통해 사업시행자에게 도시?군계획시설사업을 실시할 수 있는 권한과 사업에 필요한 토지 등을 수용할 수 있는 권한이 부여됩니다.     결국 도시?군계획시설결정과 실시계획인가는 도시?군계획시설사업을 위하여 이루어지는 단계적 행정절차에서 별도의 요건과 절차에 따라 별개의 법률효과를\\n\\n도시 및 주거환경정비법상 주택재건축정비사업조합을 상대로 관리처분계획안에 대한 조합 총회결의의 효력을 다투는 소송을 할 때는 어떻게 해야하나요.,,\"도시 및 주거환경정비법(이하 ‘도시정비법’이라 한다)상 행정주체인 주택재건축정비사업조합을 상대로 관리처분계획안에 대한 조합 총회결의의 효력을 다투는 소송은 행정처분에 이르는 절차적 요건의 존부나 효력 유무에 관한 소송으로서 소송결과에따라 행정처분의 위법 여부에 직접 영향을 미치는 공법상 법률관계에 관한 것이므로, 이는 행정소송법상 당사자소송에 해당합니다. 그리고 이러한 당사자소송에 대하여는 행정소송법 제23조 제2항 의 집행정지에 관한 규정이 준용되지 아니하므로(행정소송법 제44조 제1항 참조),이를 본안으로 하는 가처분에 대하여는 행정소송법 제8조 제2항에 따라 민사집행법상 가처분에 관한 규정이 준용되어야 합니다.                    \"', name='law_qna_retriever', id='d36df6b3-6235-4e40-9a64-2ea6e33b88bb', tool_call_id='call_HKs7ixXLq3o1uh0kYFiZLzR1')]}}\n",
      "----\n",
      "{'agent': {'messages': [AIMessage(content='Task decomposition is a process where a complex task is broken down into smaller, more manageable subtasks. This allows for better organization, delegation, and tracking of the overall task. In the context of administrative procedures, task decomposition can involve dividing a larger task into separate administrative actions or decisions that have independent legal effects. Each subtask or administrative action may have its own requirements and procedures, leading to distinct legal consequences.\\n\\nIn the legal context, task decomposition can be seen in the example of city or municipal planning decisions. For instance, the decision to establish urban facilities through city or municipal planning decisions involves a step-by-step administrative procedure with distinct legal effects for each stage of decision-making. It is important to note that errors or flaws in an initial decision, such as a city or municipal planning decision, may not necessarily transfer to subsequent decisions in the process, such as implementation plans or permits.\\n\\nOverall, task decomposition is a methodical approach to breaking down complex tasks into more manageable components, each with its own set of requirements and implications.', response_metadata={'token_usage': {'completion_tokens': 206, 'prompt_tokens': 2082, 'total_tokens': 2288}, 'model_name': 'gpt-3.5-turbo-0125', 'system_fingerprint': None, 'finish_reason': 'stop', 'logprobs': None}, id='run-4ed19c36-5249-4dba-b76a-e11ddfa62040-0')]}}\n",
      "----\n"
     ]
    }
   ],
   "source": [
    "query = \"What is Task Decomposition?\"\n",
    "\n",
    "for s in agent_executor.stream(\n",
    "    {\"messages\": [HumanMessage(content=query)]},\n",
    "):\n",
    "    print(s)\n",
    "    print(\"----\")"
   ]
  },
  {
   "cell_type": "code",
   "execution_count": 37,
   "metadata": {},
   "outputs": [],
   "source": [
    "from langgraph.checkpoint.sqlite import SqliteSaver\n",
    "\n",
    "memory = SqliteSaver.from_conn_string(\":memory:\")\n",
    "\n",
    "agent_executor = chat_agent_executor.create_tool_calling_executor(\n",
    "    llm, tools, checkpointer=memory\n",
    ")"
   ]
  },
  {
   "cell_type": "code",
   "execution_count": 33,
   "metadata": {},
   "outputs": [
    {
     "name": "stdout",
     "output_type": "stream",
     "text": [
      "{'agent': {'messages': [AIMessage(content='Hello Bob! How can I assist you today?', response_metadata={'token_usage': {'completion_tokens': 11, 'prompt_tokens': 93, 'total_tokens': 104}, 'model_name': 'gpt-3.5-turbo-0125', 'system_fingerprint': None, 'finish_reason': 'stop', 'logprobs': None}, id='run-6a6ef3c6-76e8-4bff-ab90-a10b4b6544bc-0')]}}\n",
      "----\n"
     ]
    }
   ],
   "source": [
    "config = {\"configurable\": {\"thread_id\": \"abc123\"}}\n",
    "\n",
    "for s in agent_executor.stream(\n",
    "    {\"messages\": [HumanMessage(content=\"Hi! I'm bob\")]}, config=config\n",
    "):\n",
    "    print(s)\n",
    "    print(\"----\")"
   ]
  },
  {
   "cell_type": "code",
   "execution_count": 34,
   "metadata": {},
   "outputs": [
    {
     "name": "stdout",
     "output_type": "stream",
     "text": [
      "{'agent': {'messages': [AIMessage(content='', additional_kwargs={'tool_calls': [{'id': 'call_dz9OyZHOOHvVOIt4d6VwJ3cn', 'function': {'arguments': '{\"query\":\"Task Decomposition\"}', 'name': 'law_qna_retriever'}, 'type': 'function'}]}, response_metadata={'token_usage': {'completion_tokens': 21, 'prompt_tokens': 117, 'total_tokens': 138}, 'model_name': 'gpt-3.5-turbo-0125', 'system_fingerprint': None, 'finish_reason': 'tool_calls', 'logprobs': None}, id='run-1370866e-8003-460d-ba5d-db43652bc6d6-0', tool_calls=[{'name': 'law_qna_retriever', 'args': {'query': 'Task Decomposition'}, 'id': 'call_dz9OyZHOOHvVOIt4d6VwJ3cn'}])]}}\n",
      "----\n",
      "{'tools': {'messages': [ToolMessage(content='있는 권한이 부여됩니다.     결국 도시?군계획시설결정과 실시계획인가는 도시?군계획시설사업을 위하여 이루어지는 단계적 행정절차에서 별도의 요건과 절차에 따라 별개의 법률효과를 발생시키는 독립적인 행정처분입니다. 그러므로 선행처분인 도시?군계획시설결정에 하자가 있더라도 그것이 당연무효가 아닌 한 원칙적으로 후행처분인 실시계획인가에 승계되지 않는다고 할 것입니다(대법원 2017. 7. 18. 선고 2016두49938 판결참조).                   \"\\n\\n한 건물의 구조에 따른 객관적인 용도에 의하여 결정됩니다. 따라서 구분건물에 관하여 구분소유가 성립될 당시 객관적인 용도가 공용부분인 건물부분을 나중에 임의로 개조하는 등으로 이용 상황을 변경하거나 집합건축물대장에 전유부분으로 등록하고 소유권보존등기를 하였더라도 그로써 공용부분이 전유부분이 되어 어느 구분소유자의 전속적인 소유권의 객체가 되지 않습니다.\"\\n\\n\"선행처분인 도시?군계획시설결정에 하자가 있는 경우, 그 하자가 후행처분인 실시계획인가에 승계되는지요?\",,\"하자가 승계되기 위해서는 ① 선행행위인 행정행위가 ② 당연무효사유가 아닌 취소사유인 하자가 존재하고 ③ 선행행위의 하자를 제소기간 내에 다투지 않아 선행행위에 불가쟁력이 발생하고 ④ 후행행위에 하자가 없어 적법할 것을 요합니다. 그런데 선행처분과 후행처분이 서로 독립하여 별개의 법률효과를 발생시키는 경우에는 선행처분에 불가쟁력이 생겨 그 효력을 다툴 수 없게 되면 선행처분의 하자가 당연무효인 경우를 제외하고는 특별한 사정이 없는 한 선행처분의 하자를 이유로 후행처분의 효력을 다툴 수 없는 것이 원칙입니다.  도시?군계획시설은 도시?군관리계획결정에 따라 설치되는데, 도시?군계획시설결정은 국토의 계획 및 이용에 관한 법령에 따라 도시?군관리계획결정에 일반적으로 요구되는 기초조사, 주민과 지방의회의 의견 청취, 관계 행정기관장과의 협의나 도시계획위원회 심의 등의 절차를 밟아야 하고, 이러한 절차를 거쳐 도시?군계획시설결정이 이루어지면 도시?군계획시설의 종류에 따른 사업대상지의 위치와 면적이 확정되며 그 사업대상지에서는 원칙적으로 도시?군계획시설이 아닌 건축물 등의 허가가 금지됩니다(국토의 계획 및 이용에 관한 법률 제64조).     반면 실시계획인가는 도시?군계획시설결정에 따른 특정 사업을 구체화하여 이를 실현하는 것으로서, 시?도지사는 도시?군계획시설사업의 시행자가 작성한 실시계획이 도시?군계획시설의 결정?구조 및 설치의 기준 등에 적합하다고 인정하는 경우에는 이를 인가하여야 합니다(국토의 계획 및 이용에 관한 법률 제88조 제3항, 제43조 제2항). 이러한 실시계획인가를 통해 사업시행자에게 도시?군계획시설사업을 실시할 수 있는 권한과 사업에 필요한 토지 등을 수용할 수 있는 권한이 부여됩니다.     결국 도시?군계획시설결정과 실시계획인가는 도시?군계획시설사업을 위하여 이루어지는 단계적 행정절차에서 별도의 요건과 절차에 따라 별개의 법률효과를\\n\\n도시 및 주거환경정비법상 주택재건축정비사업조합을 상대로 관리처분계획안에 대한 조합 총회결의의 효력을 다투는 소송을 할 때는 어떻게 해야하나요.,,\"도시 및 주거환경정비법(이하 ‘도시정비법’이라 한다)상 행정주체인 주택재건축정비사업조합을 상대로 관리처분계획안에 대한 조합 총회결의의 효력을 다투는 소송은 행정처분에 이르는 절차적 요건의 존부나 효력 유무에 관한 소송으로서 소송결과에따라 행정처분의 위법 여부에 직접 영향을 미치는 공법상 법률관계에 관한 것이므로, 이는 행정소송법상 당사자소송에 해당합니다. 그리고 이러한 당사자소송에 대하여는 행정소송법 제23조 제2항 의 집행정지에 관한 규정이 준용되지 아니하므로(행정소송법 제44조 제1항 참조),이를 본안으로 하는 가처분에 대하여는 행정소송법 제8조 제2항에 따라 민사집행법상 가처분에 관한 규정이 준용되어야 합니다.                    \"', name='law_qna_retriever', id='855ea154-7d5b-4752-8b31-74858c9cca99', tool_call_id='call_dz9OyZHOOHvVOIt4d6VwJ3cn')]}}\n",
      "----\n",
      "{'agent': {'messages': [AIMessage(content='Task decomposition refers to breaking down a complex task or project into smaller, more manageable sub-tasks or activities. By decomposing a task, it becomes easier to understand, plan, and execute the various components that make up the larger task. This approach helps in organizing work effectively, assigning responsibilities, and tracking progress towards the completion of the overall task or project.', response_metadata={'token_usage': {'completion_tokens': 73, 'prompt_tokens': 2128, 'total_tokens': 2201}, 'model_name': 'gpt-3.5-turbo-0125', 'system_fingerprint': None, 'finish_reason': 'stop', 'logprobs': None}, id='run-80f9f3e5-a32a-4ede-8ebf-8ad9216d3171-0')]}}\n",
      "----\n"
     ]
    }
   ],
   "source": [
    "query = \"What is Task Decomposition?\"\n",
    "\n",
    "for s in agent_executor.stream(\n",
    "    {\"messages\": [HumanMessage(content=query)]}, config=config\n",
    "):\n",
    "    print(s)\n",
    "    print(\"----\")"
   ]
  },
  {
   "cell_type": "code",
   "execution_count": 35,
   "metadata": {},
   "outputs": [
    {
     "name": "stdout",
     "output_type": "stream",
     "text": [
      "{'agent': {'messages': [AIMessage(content='', additional_kwargs={'tool_calls': [{'id': 'call_c4TKupJpAOuuvCnmg5pu88tY', 'function': {'arguments': '{\"query\":\"Task Decomposition common ways\"}', 'name': 'law_qna_retriever'}, 'type': 'function'}]}, response_metadata={'token_usage': {'completion_tokens': 23, 'prompt_tokens': 2224, 'total_tokens': 2247}, 'model_name': 'gpt-3.5-turbo-0125', 'system_fingerprint': None, 'finish_reason': 'tool_calls', 'logprobs': None}, id='run-94f2384b-8dc5-4fdf-b7b1-f7fa19b7d568-0', tool_calls=[{'name': 'law_qna_retriever', 'args': {'query': 'Task Decomposition common ways'}, 'id': 'call_c4TKupJpAOuuvCnmg5pu88tY'}])]}}\n",
      "----\n",
      "{'tools': {'messages': [ToolMessage(content='구성하여 해당 일부공용부분의 관리를 이원적으로 할수 있도록 하고 있으나, 질의사례에서는 이원적으로 분리가 된 것이 아닌 입주자대표회의를 통해 일원적으로 관리되고 있는 것으로 추정됩니다. 상가와 아파트를\\xa0일원적으로\\xa0관리하고 있고, 상가건물 소유자 등으로부터\\xa0건물의 유지 보수를 위한 장기수선충당금을 징수하고 있는 상황인 경우\\xa0상가의 일부 공용부분에 대한 유지보수 비용은 상가 일부 공용부분임을 이유로 부담을 거부하는 것은 어려움이 있을 것으로 생각됩니다. 해당 부분의 갈등을 종국적으로 해결하기 위해서는 위와 같이 상가관리단을 분리하여 상가부분은 상가관리단을 통해 별도의 장기수선충당금을 부과하도록 하는 것이 타당하지 않나 판단됩니다.\\xa04. 인터넷상 답변을 통하여 구체적인 답변은 한계가 있다는 점 양해 요청드리며, 조금 더 명확한 답변을 원하시는 경우,\\xa0 부동산\\xa0자문 관련 업무를 담당하는 법률사무소를 통해\\xa0정확한 내용을 확인해 보시기를\\xa0권유드립니다.\"\\n\\n할 것2.당해 토지와 유사한 이용가치를 지닌다고 인정되는 토지의 조성에 필요한 비용추정액은 공시기준일 현재 당해 토지를 조성하기 위한 표준적인 조성비와 일반적인 부대비용으로 할 것②제1항의 경우에 표준지에 건물 그 밖의 정착물이 있거나 지상권 그 밖의 토지의 사용·수익을 제한하는 권리가 설정되어 있는 때에는 당해 정착물 또는 권리가 존재하지 아니하는 것으로 보고 적정가격을 평가하여야 한다.”라고 규정하고 있습니다.\"\\n\\nA건물은 구조상·이용상 독립성을 갖추었고 구분행위가 충분히 이루어져 수인의 구분소유권자들이 있는 건물입니다. 甲은 A건물의 일부를 소유하는 자이고 임의로 복도와 계단을 개조하여 자신의 소유물처럼 외관을만든 뒤 건축물대장에 전유부분으로 등록하고 소유권보존등기를 마쳤습니다. 이 경우 甲이 사용하는 복도와 계단은 甲의 소유로 인정되나요?,,\"대법원 2016. 5. 27. 선고 2015다77212 판결에 따르면, 1동의 건물에 대하여 구분소유가 성립하기 위해서는 객관적·물리적인 측면에서 1동의 건물이 존재하고 구분된 건물부분이 구조상·이용상 독립성을 갖추어야 할 뿐 아니라 1동의 건물 중 물리적으로 구획된 건물부분을 각각 구분소유권의 객체로 하려는 구분행위가 있어야 합니다. 여기서 구분행위는 건물의 물리적 형질에 변경을 가함이 없이 법률 관념상 건물의 특정 부분을 구분하여 별개의 소유권의 객체로 하려는 일종의 법률행위로서, 시기나 방식에 특별한 제한이 있는 것은 아니고 처분권자의 구분의사가 객관적으로 외부에 표시되면 인정됩니다. 따라서 구분건물이 물리적으로 완성되기 전에도 건축허가신청이나 분양계약 등을 통하여 장래 신축되는 건물을 구분건물로 하겠다는 구분의사가 객관적으로 표시되면 구분행위의 존재를 인정할 수 있고,이후 1동의 건물 및 구분행위에 상응하는 구분건물이 객관적·물리적으로 완성되면 아직 건물이 집합건축물대장에 등록되거나 구분건물로서 등기부에 등기되지 않았더라도 그 시점에서 구분소유가 성립합니다. 한편 집합건물 중 여러 개의 전유부분으로 통하는 복도,계단,그 밖에 구조상 구분소유자의 전원 또는 일부의 공용에 제공되는 건물부분은 공용부분으로서 구분소유권의 목적으로 할 수 없다.이때 건물의 어느 부분이 구분소유자의 전원 또는 일부의 공용에 제공되는지는 소유자들 사이에 특단의 합의가 없는 한 건물의 구조에 따른 객관적인 용도에 의하여 결정됩니다. 따라서 구분건물에 관하여 구분소유가 성립될 당시 객관적인 용도가 공용부분인 건물부분을 나중에 임의로 개조하는 등으로\\n\\n\"甲은 구분건물의 공용부분인 복도, 계단 등을 나중에 개조하여 집합건축물대장에 전유부분으로 등록하고 甲명의로 소유권보존등기를 하였습니다. 이때 위 공용부분은 전유부분으로서 甲의 전속적인 소유권의 객체가 되는가요?\",,\"공용부분을 개조하여 전유부분으로 공부상 등록하고 등기를 한 경우에, 위 공용부분이 전속적인 소유권의 객체인 전유부분으로 성질이 변하는지를 검토하여야 합니다. 대법원은 『집합건물 중 여러 개의 전유부분으로 통하는 복도, 계단, 그 밖에 구조상 구분소유자의 전원 또는 일부의 공용에 제공되는 건물부분은 공용부분으로서 구분소유권의 목적으로 할 수 없다. 이때 건물의 어느 부분이 구분소유자의 전원 또는 일부의 공용에 제공되는지 여부는 소유자들 사이에 특단의 합의가 없는 한 그 건물의 구조에 따른 객관적인 용도에 의하여 결정된다(대법원 1995. 2. 28. 선고 94다9269 판결 등 참조). 따라서 구분건물에 관하여 구분소유가 성립될 당시 객관적인 용도가 공용부분인 건물부분을 나중에 임의로 개조하는 등으로 이용 상황을 변경하거나 집합건축물대장에 전유부분으로 등록하고 소유권보존등기를 하였다고 하더라도 그로써 공용부분이 전유부분이 되어 어느 구분소유자의 전속적인 소유권의 객체가 되지는 않는다(대법원 2016. 5. 27.선고 2015다77212판결).』라고 판결하였습니다. 즉, 공용부분은 객관적인 용도에 의하여 결정되고 추후 개조를 하였다고 할지라도 이는 전유부분의 대상이 될 수 없습니다. 따라서 甲은 위 개조 부분을 소유권자로 인정할 수 없습니다.\"', name='law_qna_retriever', id='826f8cb6-7f32-45d5-a809-abd0dcc067de', tool_call_id='call_c4TKupJpAOuuvCnmg5pu88tY')]}}\n",
      "----\n",
      "{'agent': {'messages': [AIMessage(content='The search did not provide specific information on common ways of task decomposition. Would you like me to attempt another search with different keywords or provide a general explanation based on my knowledge?', response_metadata={'token_usage': {'completion_tokens': 36, 'prompt_tokens': 4660, 'total_tokens': 4696}, 'model_name': 'gpt-3.5-turbo-0125', 'system_fingerprint': None, 'finish_reason': 'stop', 'logprobs': None}, id='run-112e4d5d-0619-432c-b443-1d49f4c71b24-0')]}}\n",
      "----\n"
     ]
    }
   ],
   "source": [
    "query = \"What according to the blog post are common ways of doing it? redo the search\"\n",
    "\n",
    "for s in agent_executor.stream(\n",
    "    {\"messages\": [HumanMessage(content=query)]}, config=config\n",
    "):\n",
    "    print(s)\n",
    "    print(\"----\")"
   ]
  },
  {
   "cell_type": "code",
   "execution_count": null,
   "metadata": {},
   "outputs": [],
   "source": []
  }
 ],
 "metadata": {
  "kernelspec": {
   "display_name": "lc_rag",
   "language": "python",
   "name": "python3"
  },
  "language_info": {
   "codemirror_mode": {
    "name": "ipython",
    "version": 3
   },
   "file_extension": ".py",
   "mimetype": "text/x-python",
   "name": "python",
   "nbconvert_exporter": "python",
   "pygments_lexer": "ipython3",
   "version": "3.11.5"
  }
 },
 "nbformat": 4,
 "nbformat_minor": 2
}
