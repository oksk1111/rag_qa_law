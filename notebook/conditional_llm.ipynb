{
 "cells": [
  {
   "cell_type": "code",
   "execution_count": 1,
   "metadata": {},
   "outputs": [
    {
     "name": "stderr",
     "output_type": "stream",
     "text": [
      "c:\\Users\\oksk1\\venv\\lc_rag\\Lib\\site-packages\\tqdm\\auto.py:21: TqdmWarning: IProgress not found. Please update jupyter and ipywidgets. See https://ipywidgets.readthedocs.io/en/stable/user_install.html\n",
      "  from .autonotebook import tqdm as notebook_tqdm\n"
     ]
    }
   ],
   "source": [
    "from dotenv import load_dotenv\n",
    "\n",
    "load_dotenv()\n",
    "\n",
    "from langchain_community.document_loaders import TextLoader\n",
    "from langchain.text_splitter import RecursiveCharacterTextSplitter\n",
    "from langchain_text_splitters.base import Language\n",
    "from langchain_community.vectorstores import Chroma\n",
    "from langchain.embeddings.openai import OpenAIEmbeddings\n",
    "from langchain_community.chat_models import ChatOpenAI\n",
    "from langchain.chains import RetrievalQA\n",
    "from langchain.callbacks.streaming_stdout import StreamingStdOutCallbackHandler\n",
    "from langchain_community.chat_models import ChatOpenAI\n",
    "from langchain.chains.combine_documents import create_stuff_documents_chain\n",
    "from langchain.chains import create_retrieval_chain\n",
    "from langchain import hub\n",
    "from langchain_core.prompts import ChatPromptTemplate\n",
    "from langchain.schema import (\n",
    "    HumanMessage,AIMessage\n",
    ")\n",
    "\n",
    "import gradio as gr\n",
    "import json\n",
    "import openai"
   ]
  },
  {
   "cell_type": "code",
   "execution_count": 2,
   "metadata": {},
   "outputs": [
    {
     "name": "stderr",
     "output_type": "stream",
     "text": [
      "c:\\Users\\oksk1\\venv\\lc_rag\\Lib\\site-packages\\langchain_core\\_api\\deprecation.py:119: LangChainDeprecationWarning: The class `ChatOpenAI` was deprecated in LangChain 0.0.10 and will be removed in 0.3.0. An updated version of the class exists in the langchain-openai package and should be used instead. To use it run `pip install -U langchain-openai` and import as `from langchain_openai import ChatOpenAI`.\n",
      "  warn_deprecated(\n"
     ]
    }
   ],
   "source": [
    "#llm = ChatOpenAI(model=\"gpt-3.5-turbo-0125\", temperature=0)\n",
    "llm = ChatOpenAI(temperature=0, model=\"gpt-4\")\n",
    "\n",
    "# llm\n",
    "# llm=ChatOpenAI(\n",
    "#     streaming=True,\n",
    "#     callbacks=[StreamingStdOutCallbackHandler()],\n",
    "#     model=\"gpt-3.5-turbo-0125\",\n",
    "#     temperature=0,\n",
    "# )"
   ]
  },
  {
   "cell_type": "code",
   "execution_count": 3,
   "metadata": {},
   "outputs": [
    {
     "name": "stderr",
     "output_type": "stream",
     "text": [
      "c:\\Users\\oksk1\\venv\\lc_rag\\Lib\\site-packages\\langchain_core\\_api\\deprecation.py:119: LangChainDeprecationWarning: The class `OpenAIEmbeddings` was deprecated in LangChain 0.0.9 and will be removed in 0.3.0. An updated version of the class exists in the langchain-openai package and should be used instead. To use it run `pip install -U langchain-openai` and import as `from langchain_openai import OpenAIEmbeddings`.\n",
      "  warn_deprecated(\n"
     ]
    }
   ],
   "source": [
    "# 해당 부분은 이미 임베딩된 데이터를 로드하는 부분이다.\n",
    "\n",
    "vectorstore = Chroma(persist_directory='../data/chroma_db', embedding_function=OpenAIEmbeddings())"
   ]
  },
  {
   "cell_type": "code",
   "execution_count": 4,
   "metadata": {},
   "outputs": [],
   "source": [
    "# Retrieve and generate using the relevant snippets of the blog.\n",
    "retriever = vectorstore.as_retriever(search_type=\"similarity\", search_kwargs={\"k\": 1})\n",
    "#prompt = hub.pull(\"rlm/rag-prompt\")\n",
    "prompt = hub.pull(\"hwchase17/openai-tools-agent\")\n",
    "\n",
    "def format_docs(docs):\n",
    "    return \"\\n\\n\".join(doc.page_content for doc in docs)"
   ]
  },
  {
   "cell_type": "code",
   "execution_count": 5,
   "metadata": {},
   "outputs": [],
   "source": [
    "qa_interface = RetrievalQA.from_chain_type(llm=llm,\n",
    "                                           chain_type=\"stuff\",\n",
    "                                           retriever=retriever,\n",
    "                                           chain_type_kwargs={\n",
    "                                            \"verbose\": True,\n",
    "                                           },\n",
    "                                           return_source_documents=True)"
   ]
  },
  {
   "cell_type": "code",
   "execution_count": 8,
   "metadata": {},
   "outputs": [
    {
     "name": "stdout",
     "output_type": "stream",
     "text": [
      "@@ msg: <gradio.components.textbox.Textbox object at 0x000001BB7A67FB10>\n",
      "Running on local URL:  http://127.0.0.1:7860\n",
      "\n",
      "Could not create share link. Please check your internet connection or our status page: https://status.gradio.app.\n"
     ]
    },
    {
     "data": {
      "text/html": [
       "<div><iframe src=\"http://127.0.0.1:7860/\" width=\"100%\" height=\"500\" allow=\"autoplay; camera; microphone; clipboard-read; clipboard-write;\" frameborder=\"0\" allowfullscreen></iframe></div>"
      ],
      "text/plain": [
       "<IPython.core.display.HTML object>"
      ]
     },
     "metadata": {},
     "output_type": "display_data"
    },
    {
     "name": "stdout",
     "output_type": "stream",
     "text": [
      "\n",
      "\n",
      "\u001b[1m> Entering new StuffDocumentsChain chain...\u001b[0m\n",
      "\n",
      "\n",
      "\u001b[1m> Entering new LLMChain chain...\u001b[0m\n",
      "Prompt after formatting:\n",
      "\u001b[32;1m\u001b[1;3mSystem: Use the following pieces of context to answer the user's question. \n",
      "If you don't know the answer, just say that you don't know, don't try to make up an answer.\n",
      "----------------\n",
      "\"안녕하세요 저는 휴대폰 매장 대표 입니다, 직원이 돈이 없엇어 퀵비를 안줫다구 합ㅈ니다. 제가 그 거땜에 퀵기사님 상대로 저 를 고소를 햇다구합니다.저는 드릴러고 햇는데 자꾸 안받는다구 햇어고 그래서 매장에서 도 매번 오서는데 제가 드릴러고 햇어는데 자꾸 안받는다 그래서 매장 근처 돌면서 동영상 도찍으면서 돈을자체 안받는다구 하섯고 그래서 저 상대러 고소 햇다구 합니다, 그래서 오늘 경찰 출석인데 제가 늦쳣습니다 낼 경찰 출석인데 변호사님들이랑 같이 동해 하고 싶은데 비용이 문제라서 ㅠㅠㅠ 그래서 이렇게 햇습니다 낼 변호사님이랑 동행 할수잇으가요\",,불구속 수사중인 경우 국선변호사 제도가 없으며 변호사 선임을 원하면 개인적으로 선임하여야 합니다.\n",
      "Human: 안녕하세요\u001b[0m\n",
      "\n",
      "\u001b[1m> Finished chain.\u001b[0m\n",
      "\n",
      "\u001b[1m> Finished chain.\u001b[0m\n",
      "### 0번째\n",
      "Question: 안녕하세요\n",
      "Answer: 안녕하세요, 어떻게 도와드릴까요?\n",
      "\n",
      "\n",
      "\u001b[1m> Entering new StuffDocumentsChain chain...\u001b[0m\n",
      "\n",
      "\n",
      "\u001b[1m> Entering new LLMChain chain...\u001b[0m\n",
      "Prompt after formatting:\n",
      "\u001b[32;1m\u001b[1;3mSystem: Use the following pieces of context to answer the user's question. \n",
      "If you don't know the answer, just say that you don't know, don't try to make up an answer.\n",
      "----------------\n",
      "\"안녕하세요 저는 23살 여자입니다예전에 게임에서 알던 동갑 친구(남자)의 카톡이 있었는데군대에 휴가 나왔을때 저와 처음 게임을하다가 친해졌었고 카톡과 가벼운 연락처 교환만 했던 상황이었습니다제대 후 저한테 지속적으로 평소에 만나달라고 하였지만 저는 모두 거절하였고,어느날 갑자기 뜬금없이 상대편에서 새벽 시간쯤에 저에게 자신의 성기사진과 'ㅇㅇ아 만나줘' 라는 등의 카톡 메세지를 저에게 보냈습니다앞뒤로 아무 내용없이 갑자기 받은거고 저는 그이후 스트레스와 우울증 그리고 수면장애까지 계속 시달리고 있습니다.그로부터 약 3주 가량이 지나고 저의 담당 수사관님을 통하여 연락이 한통이 왔습니다.상대쪽 변호인이 합의를 요청한다고 하여 알겠다고 하고 일단 번호를 드렸고 10월11일(어제) 오후 쯤 전화가 와서 받았습니다저는 더이상 정신적인 스트레스를 정리하고자. 합의를 하려던것이었으나 그쪽에서 요청했던 합의 금액은 100만원 이였습니다.저는 전혀 납득할 수 없는 금액이었고, 제쪽에서는 거절 하고 제가 원하는 합의금 액수를 말씀을 드렸습니다그쪽에서는 그게 힘들것이고 어떠한 사례를 보고 왔는지 모르겠으나 그렇겐 해줄수 없으나 일단 피고소인쪽으로 전달하겠다는 말과 함께 전화를 끊으셨습니다 주변에 법관련 아시는분이 전혀 없고, 조언구하고자 올립니다.정말 상대방의 죄가 저렇게 가치가 없는것일까요?저는 현재 엄벌탄원서와 민사소송까지 생각을 하고있습니다 조금이라도 좋으니 조언주시면 감사하겠습니다.\",,1. 형사 합의와 관련되어 법령으로 정해져 있는 금액은 없습니다. 합의라는 것은 범죄와 관련하여 피해자에게 사과를 하고 피해자가 이를 받아들이는 것으로 피해자가 원하지 않는 조건으로 합의 할 이유가 없고 피의자는 합의가 이뤄지지 않는다면 보다 엄하게 처벌될 것으로 보입니다. 2. 귀하가 기재한 것과 같이 엄벌탄원서를 제출하는 것도 좋을 것으로 보이고 합의과정과 관련하여 추가적인 피해 등이 있다면 이러한 사실을 적시하여 엄벌탄원서를 작성하는 것도 고려해볼 수 있을 것으로 보입니다. 3.\n",
      "Human: 안녕\u001b[0m\n",
      "\n",
      "\u001b[1m> Finished chain.\u001b[0m\n",
      "\n",
      "\u001b[1m> Finished chain.\u001b[0m\n",
      "### 0번째\n",
      "Question: 안녕하세요\n",
      "Answer: 안녕하세요, 어떻게 도와드릴까요?\n",
      "### 1번째\n",
      "Question: 안녕\n",
      "Answer: 안녕하세요! 어떤 도움을 드릴까요?\n",
      "Keyboard interruption in main thread... closing server.\n"
     ]
    },
    {
     "data": {
      "text/plain": []
     },
     "execution_count": 8,
     "metadata": {},
     "output_type": "execute_result"
    }
   ],
   "source": [
    "with gr.Blocks() as rag_tester:\n",
    "    gr.HTML(\"법률 사례기반 챗봇\")\n",
    "\n",
    "    with gr.Row():\n",
    "        with gr.Column(scale=1):\n",
    "            chatbot = gr.Chatbot()\n",
    "            msg = gr.Textbox(placeholder=\"법률 관련 질문을 입력하세요.\")\n",
    "        with gr.Column(scale=1):\n",
    "            gr.HTML(\"검색 문서\")\n",
    "            source = gr.Textbox()\n",
    "\n",
    "    def userHandler(user_message, history):\n",
    "        #print(\"@@ history:\", history)\n",
    "        return \"\", history + [[user_message, None]]\n",
    "\n",
    "    def botHandler(history):\n",
    "        qa_result = qa_interface(history[-1][0])\n",
    "\n",
    "        history[-1][1] = qa_result[\"result\"]\n",
    "        source_text = \"\"\n",
    "        for ix, doc in enumerate(qa_result['source_documents']):\n",
    "            source_text += f\"## 검색문서 {ix+1}\\n```\\n{doc.page_content}\\n```\\n\\n\"\n",
    "\n",
    "        # for i in range(len(history)):\n",
    "        #     print(f\"### {i}번째\\nQuestion: {history[i][0]}\\nAnswer: {history[i][1]}\")\n",
    "        print(\"## history:\", history)\n",
    "\n",
    "        return history, source_text\n",
    "\n",
    "    msg.submit(userHandler, [msg, chatbot], [msg, chatbot], queue=False).then(\n",
    "        botHandler, chatbot, [chatbot, source]\n",
    "    )\n",
    "\n",
    "rag_tester.launch(debug=True, share=True)"
   ]
  },
  {
   "cell_type": "code",
   "execution_count": 6,
   "metadata": {},
   "outputs": [],
   "source": [
    "from langchain.chains.combine_documents import create_stuff_documents_chain\n",
    "from langchain.chains import create_retrieval_chain\n",
    "from langchain_community.tools.tavily_search import TavilySearchResults\n",
    "from langchain.tools.retriever import create_retriever_tool\n",
    "from langchain.agents import create_openai_functions_agent\n",
    "from langchain.agents import AgentExecutor\n",
    "from langchain.prompts import MessagesPlaceholder"
   ]
  },
  {
   "cell_type": "code",
   "execution_count": 19,
   "metadata": {},
   "outputs": [
    {
     "name": "stdout",
     "output_type": "stream",
     "text": [
      "\n",
      "\n",
      "\u001b[1m> Entering new AgentExecutor chain...\u001b[0m\n",
      "\u001b[32;1m\u001b[1;3m\n",
      "Invoking: `law_qa_search` with `{'query': '근로기준법 근로자 정의'}`\n",
      "\n",
      "\n",
      "\u001b[0m\u001b[36;1m\u001b[1;3m근무하는 한국인 노동자에게는 「근로기준법」및 「산업재해보상보험법」이 적용됩니다(산업재해보상보험법 제122조).다만, 상시 5인 이상의 근로자를 사용하는 사업 또는 사업장이라도 다음의 경우에는 「근로기준법」이 적용되지 않습니다.첫째, 동거의 친족만을 사용하는 사업은 종속적 근로관계를 인정할 수 없으니 친족상호간에 누가 사용자이고 노동자인지를 형식적으로 구별하기 곤란하기 때문에 법적용에서 제외하고 있습니다. 그러나 「민법」제777조에 의한 법률상의 친족범위(8촌 이내의 혈족, 4촌 이내의 인척, 배우자)밖에 있는 친족을 근로자로 사용하는 경우에는 「근로기준법」이 적용됩니다.둘째, 가사사용인은 제외됩니다. 가사사용인이란 일반가정의 가정부, 파출부 등 가사에 종사하는 자를 말합니다. 가사사용인과의 관계는 주로 개인의 사생활과 관련되어 있고 근무시간이나 임금규제를 통하여 국가의 감독행정이 미치기 어렵기 때문입니다.셋째, 특별법에 의한 적용의 예외로서 선원의 경우는 해상노동의 특이성을 고려하여 선원법이 적용되며, 국가공무원 및 지방공무원은 특별규정(예：공무원연금법, 공무원보수규정 등)이 있는 경우에는 「근로기준법」의 적용이 제한되며, 사립학교교직원은 「사립학교법」에 특별히 「근로기준법」의 적용을 배제한다는 규정이 없는 한 「근로기준법」이 적용됩니다.또한 판례는 “근로기준법 제10조(현행 근로기준법 제11조) 본문에서 ‘상시 5인 이상의 근로자를 사용하는 사업 또는 사업장’이라고 함은 근로자 수가 때때로 5인 미만이 되는 경우가 있어도 상태적으로 5인 이상이 되는 경우에는 이에 해당하고, 나아가 당해 사업장에 계속 근무하는 근로자뿐 아니라 그때 그때의 필요에 의하여 사용하는 일용근로자도 포함하는 것이다.”라고 하였습니다(대법원 1997. 11. 28. 선고 97다28971 판결, 2000. 3. 14. 선고 99도1243 판결 ※ 상시고용근로자수=일정기간 내의 고용자 연인원수/일정사업기간내 가동일수).따라서 귀하의 경우 외국인회사의 한국지부라도 속지주의 원칙상 한국인\u001b[0m근로기준법에 따르면 근로자에는 정규직 뿐만 아니라 일용근로자도 포함됩니다. 근로기준법은 상시 5인 이상의 근로자를 사용하는 사업 또는 사업장에 적용되며, 이에는 정규직 뿐만 아니라 필요에 따라 일시적으로 사용되는 일용근로자도 포함됩니다. 따라서 근로기준법은 정규직 뿐만 아니라 일용근로자에게도 적용됩니다.\u001b[32;1m\u001b[1;3m근로기준법에 따르면 근로자에는 정규직 뿐만 아니라 일용근로자도 포함됩니다. 근로기준법은 상시 5인 이상의 근로자를 사용하는 사업 또는 사업장에 적용되며, 이에는 정규직 뿐만 아니라 필요에 따라 일시적으로 사용되는 일용근로자도 포함됩니다. 따라서 근로기준법은 정규직 뿐만 아니라 일용근로자에게도 적용됩니다.\u001b[0m\n",
      "\n",
      "\u001b[1m> Finished chain.\u001b[0m\n",
      "\n",
      "\n",
      "\u001b[1m> Entering new AgentExecutor chain...\u001b[0m\n",
      "\u001b[32;1m\u001b[1;3m\n",
      "Invoking: `tavily_search_results_json` with `{'query': '연예인 뉴진스'}`\n",
      "\n",
      "\n",
      "\u001b[0m\u001b[33;1m\u001b[1;3m[{'url': 'https://www.yna.co.kr/view/AKR20220722033051005', 'content': \"재판매 및 DB 금지] (서울=연합뉴스) 안정훈 기자 = 민희진 어도어 대표이사가 새 걸그룹 '뉴진스' (NewJeans)를 공개했다. 어도어는 22일 자정께 공식 홈페이지와 유튜브를 통해 뉴진스 데뷔 음반 첫 번째 타이틀곡 '어텐션' (Attention)의 뮤직비디오를 발표했다. 민 ...\"}]\u001b[0m연예인 뉴진스는 민희진 어도어 대표이사가 새로운 걸그룹 '뉴진스' (NewJeans)를 공개했습니다. 뉴진스는 데뷔 음반의 첫 번째 타이틀곡 '어텐션' (Attention)의 뮤직비디오를 공개하였습니다. 자세한 내용은 [링크](https://www.yna.co.kr/view/AKR20220722033051005)에서 확인하실 수 있습니다.\u001b[32;1m\u001b[1;3m연예인 뉴진스는 민희진 어도어 대표이사가 새로운 걸그룹 '뉴진스' (NewJeans)를 공개했습니다. 뉴진스는 데뷔 음반의 첫 번째 타이틀곡 '어텐션' (Attention)의 뮤직비디오를 공개하였습니다. 자세한 내용은 [링크](https://www.yna.co.kr/view/AKR20220722033051005)에서 확인하실 수 있습니다.\u001b[0m\n",
      "\n",
      "\u001b[1m> Finished chain.\u001b[0m\n"
     ]
    }
   ],
   "source": [
    "# llm\n",
    "llm=ChatOpenAI(\n",
    "    streaming=True,\n",
    "    callbacks=[StreamingStdOutCallbackHandler()],\n",
    "    model=\"gpt-3.5-turbo-0125\",\n",
    "    temperature=0\n",
    ")\n",
    "\n",
    "# prompt\n",
    "prompt = ChatPromptTemplate.from_messages(\n",
    "    [\n",
    "        (\n",
    "            \"system\",\n",
    "            \"\"\"\n",
    "            당신은 법률기반 질의응답에 기반해 사용자의 질문에 답변하는 챗봇입니다.\n",
    "            반드시 전달받은 context에 기반해 답변해야 하며,\n",
    "            전달받은 context로 답변할 수 없을 시 답변을 절대 하면 안 됩니다.\n",
    "            Lets' think step by step.\n",
    "            \"\"\"\n",
    "        ),\n",
    "        (\"user\", \"{input}\"),\n",
    "        MessagesPlaceholder(variable_name=\"agent_scratchpad\") # 메세지 리스트를 전달하는 공간\n",
    "    ]\n",
    ")\n",
    "\n",
    "retriever_tool = create_retriever_tool(\n",
    "    retriever,\n",
    "    \"law_qa_search\",\n",
    "    \"법률에 대한 질문이라면 반드시 이 tool을 사용하세요.\",\n",
    ")\n",
    "\n",
    "\n",
    "# search\n",
    "search = TavilySearchResults(max_results=1)\n",
    "\n",
    "# tools\n",
    "# tools = [retriever_tool]\n",
    "tools = [retriever_tool, search]\n",
    "\n",
    "\n",
    "# # 언어체인\n",
    "# combine_docs_chain = create_stuff_documents_chain(llm, prompt)\n",
    "# # 검색체인\n",
    "# retrieval_chain = create_retrieval_chain(retriever, combine_docs_chain)\n",
    "\n",
    "agent = create_openai_functions_agent(llm, tools, prompt)\n",
    "agent_executor = AgentExecutor(agent=agent, tools=tools, verbose=True)\n",
    "\n",
    "result1 = agent_executor.invoke({\"input\": \"근로기준법상 근로자에는 정규직만 들어가는 건가요?\"})\n",
    "result2 = agent_executor.invoke({\"input\": \"연예인 뉴진스에 대해 설명해주세요.\"})"
   ]
  },
  {
   "cell_type": "code",
   "execution_count": null,
   "metadata": {},
   "outputs": [],
   "source": []
  }
 ],
 "metadata": {
  "kernelspec": {
   "display_name": "lc_rag",
   "language": "python",
   "name": "python3"
  },
  "language_info": {
   "codemirror_mode": {
    "name": "ipython",
    "version": 3
   },
   "file_extension": ".py",
   "mimetype": "text/x-python",
   "name": "python",
   "nbconvert_exporter": "python",
   "pygments_lexer": "ipython3",
   "version": "3.11.5"
  }
 },
 "nbformat": 4,
 "nbformat_minor": 2
}
