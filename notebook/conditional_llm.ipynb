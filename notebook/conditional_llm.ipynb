{
 "cells": [
  {
   "cell_type": "code",
   "execution_count": 1,
   "metadata": {},
   "outputs": [
    {
     "name": "stderr",
     "output_type": "stream",
     "text": [
      "c:\\Users\\oksk1\\venv\\lc_rag\\Lib\\site-packages\\tqdm\\auto.py:21: TqdmWarning: IProgress not found. Please update jupyter and ipywidgets. See https://ipywidgets.readthedocs.io/en/stable/user_install.html\n",
      "  from .autonotebook import tqdm as notebook_tqdm\n"
     ]
    }
   ],
   "source": [
    "from dotenv import load_dotenv\n",
    "\n",
    "load_dotenv()\n",
    "\n",
    "from langchain_community.document_loaders import TextLoader\n",
    "from langchain.text_splitter import RecursiveCharacterTextSplitter\n",
    "from langchain_text_splitters.base import Language\n",
    "from langchain_community.vectorstores import Chroma\n",
    "from langchain.embeddings.openai import OpenAIEmbeddings\n",
    "from langchain_community.chat_models import ChatOpenAI\n",
    "from langchain.chains import RetrievalQA\n",
    "from langchain.callbacks.streaming_stdout import StreamingStdOutCallbackHandler\n",
    "from langchain_community.chat_models import ChatOpenAI\n",
    "from langchain.chains.combine_documents import create_stuff_documents_chain\n",
    "from langchain.chains import create_retrieval_chain\n",
    "from langchain import hub\n",
    "from langchain_core.prompts import ChatPromptTemplate\n",
    "from langchain.schema import (\n",
    "    HumanMessage,AIMessage\n",
    ")\n",
    "\n",
    "import gradio as gr\n",
    "import json\n",
    "import openai"
   ]
  },
  {
   "cell_type": "code",
   "execution_count": 2,
   "metadata": {},
   "outputs": [
    {
     "name": "stderr",
     "output_type": "stream",
     "text": [
      "c:\\Users\\oksk1\\venv\\lc_rag\\Lib\\site-packages\\langchain_core\\_api\\deprecation.py:119: LangChainDeprecationWarning: The class `ChatOpenAI` was deprecated in LangChain 0.0.10 and will be removed in 0.3.0. An updated version of the class exists in the langchain-openai package and should be used instead. To use it run `pip install -U langchain-openai` and import as `from langchain_openai import ChatOpenAI`.\n",
      "  warn_deprecated(\n"
     ]
    }
   ],
   "source": [
    "#llm = ChatOpenAI(model=\"gpt-3.5-turbo-0125\", temperature=0)\n",
    "llm = ChatOpenAI(temperature=0, model=\"gpt-3.5-turbo-0125\")\n",
    "\n",
    "# llm\n",
    "# llm=ChatOpenAI(\n",
    "#     streaming=True,\n",
    "#     callbacks=[StreamingStdOutCallbackHandler()],\n",
    "#     model=\"gpt-3.5-turbo-0125\",\n",
    "#     temperature=0,\n",
    "# )"
   ]
  },
  {
   "cell_type": "code",
   "execution_count": 3,
   "metadata": {},
   "outputs": [
    {
     "name": "stderr",
     "output_type": "stream",
     "text": [
      "c:\\Users\\oksk1\\venv\\lc_rag\\Lib\\site-packages\\langchain_core\\_api\\deprecation.py:119: LangChainDeprecationWarning: The class `OpenAIEmbeddings` was deprecated in LangChain 0.0.9 and will be removed in 0.3.0. An updated version of the class exists in the langchain-openai package and should be used instead. To use it run `pip install -U langchain-openai` and import as `from langchain_openai import OpenAIEmbeddings`.\n",
      "  warn_deprecated(\n"
     ]
    }
   ],
   "source": [
    "# 해당 부분은 이미 임베딩된 데이터를 로드하는 부분이다.\n",
    "\n",
    "vectorstore = Chroma(persist_directory='../data/chroma_db', embedding_function=OpenAIEmbeddings())"
   ]
  },
  {
   "cell_type": "code",
   "execution_count": 4,
   "metadata": {},
   "outputs": [],
   "source": [
    "# Retrieve and generate using the relevant snippets of the blog.\n",
    "retriever = vectorstore.as_retriever(search_type=\"similarity\", search_kwargs={\"k\": 1})\n",
    "#prompt = hub.pull(\"rlm/rag-prompt\")\n",
    "prompt = hub.pull(\"hwchase17/openai-tools-agent\")\n",
    "\n",
    "def format_docs(docs):\n",
    "    return \"\\n\\n\".join(doc.page_content for doc in docs)"
   ]
  },
  {
   "cell_type": "code",
   "execution_count": 5,
   "metadata": {},
   "outputs": [],
   "source": [
    "qa_interface = RetrievalQA.from_chain_type(llm=llm,\n",
    "                                           chain_type=\"stuff\",\n",
    "                                           retriever=retriever,\n",
    "                                           chain_type_kwargs={\n",
    "                                            \"verbose\": True,\n",
    "                                           },\n",
    "                                           return_source_documents=True)"
   ]
  },
  {
   "cell_type": "code",
   "execution_count": 8,
   "metadata": {},
   "outputs": [
    {
     "name": "stdout",
     "output_type": "stream",
     "text": [
      "@@ msg: <gradio.components.textbox.Textbox object at 0x000001BB7A67FB10>\n",
      "Running on local URL:  http://127.0.0.1:7860\n",
      "\n",
      "Could not create share link. Please check your internet connection or our status page: https://status.gradio.app.\n"
     ]
    },
    {
     "data": {
      "text/html": [
       "<div><iframe src=\"http://127.0.0.1:7860/\" width=\"100%\" height=\"500\" allow=\"autoplay; camera; microphone; clipboard-read; clipboard-write;\" frameborder=\"0\" allowfullscreen></iframe></div>"
      ],
      "text/plain": [
       "<IPython.core.display.HTML object>"
      ]
     },
     "metadata": {},
     "output_type": "display_data"
    },
    {
     "name": "stdout",
     "output_type": "stream",
     "text": [
      "\n",
      "\n",
      "\u001b[1m> Entering new StuffDocumentsChain chain...\u001b[0m\n",
      "\n",
      "\n",
      "\u001b[1m> Entering new LLMChain chain...\u001b[0m\n",
      "Prompt after formatting:\n",
      "\u001b[32;1m\u001b[1;3mSystem: Use the following pieces of context to answer the user's question. \n",
      "If you don't know the answer, just say that you don't know, don't try to make up an answer.\n",
      "----------------\n",
      "\"안녕하세요 저는 휴대폰 매장 대표 입니다, 직원이 돈이 없엇어 퀵비를 안줫다구 합ㅈ니다. 제가 그 거땜에 퀵기사님 상대로 저 를 고소를 햇다구합니다.저는 드릴러고 햇는데 자꾸 안받는다구 햇어고 그래서 매장에서 도 매번 오서는데 제가 드릴러고 햇어는데 자꾸 안받는다 그래서 매장 근처 돌면서 동영상 도찍으면서 돈을자체 안받는다구 하섯고 그래서 저 상대러 고소 햇다구 합니다, 그래서 오늘 경찰 출석인데 제가 늦쳣습니다 낼 경찰 출석인데 변호사님들이랑 같이 동해 하고 싶은데 비용이 문제라서 ㅠㅠㅠ 그래서 이렇게 햇습니다 낼 변호사님이랑 동행 할수잇으가요\",,불구속 수사중인 경우 국선변호사 제도가 없으며 변호사 선임을 원하면 개인적으로 선임하여야 합니다.\n",
      "Human: 안녕하세요\u001b[0m\n",
      "\n",
      "\u001b[1m> Finished chain.\u001b[0m\n",
      "\n",
      "\u001b[1m> Finished chain.\u001b[0m\n",
      "### 0번째\n",
      "Question: 안녕하세요\n",
      "Answer: 안녕하세요, 어떻게 도와드릴까요?\n",
      "\n",
      "\n",
      "\u001b[1m> Entering new StuffDocumentsChain chain...\u001b[0m\n",
      "\n",
      "\n",
      "\u001b[1m> Entering new LLMChain chain...\u001b[0m\n",
      "Prompt after formatting:\n",
      "\u001b[32;1m\u001b[1;3mSystem: Use the following pieces of context to answer the user's question. \n",
      "If you don't know the answer, just say that you don't know, don't try to make up an answer.\n",
      "----------------\n",
      "\"안녕하세요 저는 23살 여자입니다예전에 게임에서 알던 동갑 친구(남자)의 카톡이 있었는데군대에 휴가 나왔을때 저와 처음 게임을하다가 친해졌었고 카톡과 가벼운 연락처 교환만 했던 상황이었습니다제대 후 저한테 지속적으로 평소에 만나달라고 하였지만 저는 모두 거절하였고,어느날 갑자기 뜬금없이 상대편에서 새벽 시간쯤에 저에게 자신의 성기사진과 'ㅇㅇ아 만나줘' 라는 등의 카톡 메세지를 저에게 보냈습니다앞뒤로 아무 내용없이 갑자기 받은거고 저는 그이후 스트레스와 우울증 그리고 수면장애까지 계속 시달리고 있습니다.그로부터 약 3주 가량이 지나고 저의 담당 수사관님을 통하여 연락이 한통이 왔습니다.상대쪽 변호인이 합의를 요청한다고 하여 알겠다고 하고 일단 번호를 드렸고 10월11일(어제) 오후 쯤 전화가 와서 받았습니다저는 더이상 정신적인 스트레스를 정리하고자. 합의를 하려던것이었으나 그쪽에서 요청했던 합의 금액은 100만원 이였습니다.저는 전혀 납득할 수 없는 금액이었고, 제쪽에서는 거절 하고 제가 원하는 합의금 액수를 말씀을 드렸습니다그쪽에서는 그게 힘들것이고 어떠한 사례를 보고 왔는지 모르겠으나 그렇겐 해줄수 없으나 일단 피고소인쪽으로 전달하겠다는 말과 함께 전화를 끊으셨습니다 주변에 법관련 아시는분이 전혀 없고, 조언구하고자 올립니다.정말 상대방의 죄가 저렇게 가치가 없는것일까요?저는 현재 엄벌탄원서와 민사소송까지 생각을 하고있습니다 조금이라도 좋으니 조언주시면 감사하겠습니다.\",,1. 형사 합의와 관련되어 법령으로 정해져 있는 금액은 없습니다. 합의라는 것은 범죄와 관련하여 피해자에게 사과를 하고 피해자가 이를 받아들이는 것으로 피해자가 원하지 않는 조건으로 합의 할 이유가 없고 피의자는 합의가 이뤄지지 않는다면 보다 엄하게 처벌될 것으로 보입니다. 2. 귀하가 기재한 것과 같이 엄벌탄원서를 제출하는 것도 좋을 것으로 보이고 합의과정과 관련하여 추가적인 피해 등이 있다면 이러한 사실을 적시하여 엄벌탄원서를 작성하는 것도 고려해볼 수 있을 것으로 보입니다. 3.\n",
      "Human: 안녕\u001b[0m\n",
      "\n",
      "\u001b[1m> Finished chain.\u001b[0m\n",
      "\n",
      "\u001b[1m> Finished chain.\u001b[0m\n",
      "### 0번째\n",
      "Question: 안녕하세요\n",
      "Answer: 안녕하세요, 어떻게 도와드릴까요?\n",
      "### 1번째\n",
      "Question: 안녕\n",
      "Answer: 안녕하세요! 어떤 도움을 드릴까요?\n",
      "Keyboard interruption in main thread... closing server.\n"
     ]
    },
    {
     "data": {
      "text/plain": []
     },
     "execution_count": 8,
     "metadata": {},
     "output_type": "execute_result"
    }
   ],
   "source": [
    "with gr.Blocks() as rag_tester:\n",
    "    gr.HTML(\"법률 사례기반 챗봇\")\n",
    "\n",
    "    with gr.Row():\n",
    "        with gr.Column(scale=1):\n",
    "            chatbot = gr.Chatbot()\n",
    "            msg = gr.Textbox(placeholder=\"법률 관련 질문을 입력하세요.\")\n",
    "        with gr.Column(scale=1):\n",
    "            gr.HTML(\"검색 문서\")\n",
    "            source = gr.Textbox()\n",
    "\n",
    "    def userHandler(user_message, history):\n",
    "        #print(\"@@ history:\", history)\n",
    "        return \"\", history + [[user_message, None]]\n",
    "\n",
    "    def botHandler(history):\n",
    "        qa_result = qa_interface(history[-1][0])\n",
    "\n",
    "        history[-1][1] = qa_result[\"result\"]\n",
    "        source_text = \"\"\n",
    "        for ix, doc in enumerate(qa_result['source_documents']):\n",
    "            source_text += f\"## 검색문서 {ix+1}\\n```\\n{doc.page_content}\\n```\\n\\n\"\n",
    "\n",
    "        # for i in range(len(history)):\n",
    "        #     print(f\"### {i}번째\\nQuestion: {history[i][0]}\\nAnswer: {history[i][1]}\")\n",
    "        print(\"## history:\", history)\n",
    "\n",
    "        return history, source_text\n",
    "\n",
    "    msg.submit(userHandler, [msg, chatbot], [msg, chatbot], queue=False).then(\n",
    "        botHandler, chatbot, [chatbot, source]\n",
    "    )\n",
    "\n",
    "rag_tester.launch(debug=True, share=True)"
   ]
  },
  {
   "cell_type": "code",
   "execution_count": 25,
   "metadata": {},
   "outputs": [],
   "source": [
    "from langchain_community.tools.tavily_search import TavilySearchResults\n",
    "from langchain.tools.retriever import create_retriever_tool\n",
    "from langchain.agents import create_openai_functions_agent\n",
    "from langchain.agents import AgentExecutor\n",
    "from langchain.prompts import MessagesPlaceholder"
   ]
  },
  {
   "cell_type": "code",
   "execution_count": 7,
   "metadata": {},
   "outputs": [],
   "source": [
    "from langchain.callbacks.base import BaseCallbackHandler\n",
    "\n",
    "class MyCustomHandler(BaseCallbackHandler):\n",
    "\n",
    "    def __init__(self, domain=None, details=None):\n",
    "        self.domain = domain\n",
    "        self.details = details\n",
    "\n",
    "    def on_tool_start(self, serialized: dict[str, any], **kwargs: any) -> any:\n",
    "        \"\"\"Run when tool starts running.\"\"\"\n",
    "        print(f\"on_tool_start (A tool is starting!!)\")\n",
    "        print(\"#\", serialized)\n",
    "        print(\"#\", kwargs)\n",
    "        self.domain = serialized\n",
    "\n",
    "    def on_tool_start(\n",
    "        self, serialized: dict[str, any], input_str: str, **kwargs: any\n",
    "    ) -> any:\n",
    "        \"\"\"Run when tool starts running.\"\"\"\n",
    "        print(f\"on_tool_start (I'm starting!!)\")\n",
    "        print(\"#\", serialized) # 이 값으로 어떤것으로 분류 되었는지 알 수 있다.\n",
    "        print(\"#\", input_str)\n",
    "        print(\"#\", kwargs)\n",
    "        self.domain = serialized\n",
    "\n",
    "    def on_tool_end(self, output: str, **kwargs: any) -> any:\n",
    "        \"\"\"Run when tool ends running.\"\"\"\n",
    "        print(f\"on_tool_end (I'm ending!!)\")\n",
    "        print(\"#\", output) # 이 값으로 링크만 따로 분류 할 수 있다.\n",
    "        print(\"#\", kwargs)\n",
    "        self.details = output"
   ]
  },
  {
   "cell_type": "code",
   "execution_count": 29,
   "metadata": {},
   "outputs": [
    {
     "name": "stdout",
     "output_type": "stream",
     "text": [
      "\n",
      "\n",
      "\u001b[1m> Entering new AgentExecutor chain...\u001b[0m\n",
      "\u001b[32;1m\u001b[1;3m\n",
      "Invoking: `law_qa_search` with `{'query': '근로기준법 근로자 정의'}`\n",
      "\n",
      "\n",
      "\u001b[0m\u001b[36;1m\u001b[1;3m근무하는 한국인 노동자에게는 「근로기준법」및 「산업재해보상보험법」이 적용됩니다(산업재해보상보험법 제122조).다만, 상시 5인 이상의 근로자를 사용하는 사업 또는 사업장이라도 다음의 경우에는 「근로기준법」이 적용되지 않습니다.첫째, 동거의 친족만을 사용하는 사업은 종속적 근로관계를 인정할 수 없으니 친족상호간에 누가 사용자이고 노동자인지를 형식적으로 구별하기 곤란하기 때문에 법적용에서 제외하고 있습니다. 그러나 「민법」제777조에 의한 법률상의 친족범위(8촌 이내의 혈족, 4촌 이내의 인척, 배우자)밖에 있는 친족을 근로자로 사용하는 경우에는 「근로기준법」이 적용됩니다.둘째, 가사사용인은 제외됩니다. 가사사용인이란 일반가정의 가정부, 파출부 등 가사에 종사하는 자를 말합니다. 가사사용인과의 관계는 주로 개인의 사생활과 관련되어 있고 근무시간이나 임금규제를 통하여 국가의 감독행정이 미치기 어렵기 때문입니다.셋째, 특별법에 의한 적용의 예외로서 선원의 경우는 해상노동의 특이성을 고려하여 선원법이 적용되며, 국가공무원 및 지방공무원은 특별규정(예：공무원연금법, 공무원보수규정 등)이 있는 경우에는 「근로기준법」의 적용이 제한되며, 사립학교교직원은 「사립학교법」에 특별히 「근로기준법」의 적용을 배제한다는 규정이 없는 한 「근로기준법」이 적용됩니다.또한 판례는 “근로기준법 제10조(현행 근로기준법 제11조) 본문에서 ‘상시 5인 이상의 근로자를 사용하는 사업 또는 사업장’이라고 함은 근로자 수가 때때로 5인 미만이 되는 경우가 있어도 상태적으로 5인 이상이 되는 경우에는 이에 해당하고, 나아가 당해 사업장에 계속 근무하는 근로자뿐 아니라 그때 그때의 필요에 의하여 사용하는 일용근로자도 포함하는 것이다.”라고 하였습니다(대법원 1997. 11. 28. 선고 97다28971 판결, 2000. 3. 14. 선고 99도1243 판결 ※ 상시고용근로자수=일정기간 내의 고용자 연인원수/일정사업기간내 가동일수).따라서 귀하의 경우 외국인회사의 한국지부라도 속지주의 원칙상 한국인\u001b[0m\u001b[32;1m\u001b[1;3m근로기준법에 따르면 근로자에는 정규직 뿐만 아니라 일용근로자도 포함됩니다. 근로기준법은 상시 5인 이상의 근로자를 사용하는 사업 또는 사업장에 적용되며, 이에는 일정기간 내에 사용하는 일용근로자도 포함됩니다. 따라서 근로기준법은 정규직 뿐만 아니라 일용근로자를 포함한 모든 종류의 근로자에게 적용됩니다.\u001b[0m\n",
      "\n",
      "\u001b[1m> Finished chain.\u001b[0m\n",
      "\n",
      "\n",
      "\u001b[1m> Entering new AgentExecutor chain...\u001b[0m\n",
      "\u001b[32;1m\u001b[1;3m\n",
      "Invoking: `tavily_search_results_json` with `{'query': '연예인 뉴진스'}`\n",
      "\n",
      "\n",
      "\u001b[0mon_tool_start (I'm starting!!)\n",
      "# {'name': 'tavily_search_results_json', 'description': 'A search engine optimized for comprehensive, accurate, and trusted results. Useful for when you need to answer questions about current events. Input should be a search query.'}\n",
      "# {'query': '연예인 뉴진스'}\n",
      "# {'run_id': UUID('1432577c-24d1-486c-9c05-61a02917c9c9'), 'parent_run_id': UUID('31c9621e-9b8e-4bf0-ad5d-b12bc9839a8b'), 'tags': [], 'metadata': {}, 'inputs': {'query': '연예인 뉴진스'}, 'color': 'green', 'name': None}\n",
      "on_tool_end (I'm ending!!)\n",
      "# [{'url': 'https://ko.wikipedia.org/wiki/NewJeans', 'content': '구성원[편집]\\n음반[편집]\\nEP[편집]\\n싱글[편집]\\n리믹스[편집]\\n음반 외 활동[편집]\\n텔레비전 방송 프로그램[편집]\\n수상 목록[편집]\\n가요 프로그램 1위[편집]\\n시상식[편집]\\n각주[편집]\\n외부 링크[편집] 넘어섰다.[26]\\n8월 1일, NewJeans는 세 번째 싱글 \"Cookie\"와 함께 데뷔 EP를 디지털 방식으로 발표했다.[27] 이 노래는 가사에 성적인 풍자가 포함되어 있다고 생각하는 일부 평론가들로부터 비판을 받았다.[28] ADOR는 비난을 부인하고 가사가 \"CD를 굽는 것과 쿠키를 굽는 것의 짝을 이루는 아이디어, 한국어에서 동일한 개념 동사를 공유하는 것\"을 의미한다고 밝혔다.[29] 이 EP의 오프라인 버전은 8월 8일 발매되어 100만 장 이상 판매되어 대한민국 K팝 여성 가수의 베스트셀러 데뷔 앨범이자 2011년 서클 차트 설립 이후 이를 달성한 유일한 데뷔 앨범이 되었다.[30] Get Up[편집]\\nADOR는 2022년 7월 1일에 \\'22\\', \\'7\\', \\'22\\'라는 숫자의 애니메이션 영상 3편을 게재하며 신인 걸그룹 론칭을 예고해, 7월 22일 콘텐츠 공개에 대한 추측을 불러일으켰다.[21] 7월 22일 데뷔 싱글 \\'Attention\\' 뮤직비디오를 사전 프로모션이나 라인업 정보 없이 깜짝 공개했다.[22] 빌보드는 이 움직임을 \"위험하지만 궁극적으로 활력이 넘친다\"고 묘사했으며, 그 성공을 \"무엇보다 음악에 중점을 둔 것\"으로 평가했다.[23] 이 비디오에는 2개의 추가 싱글을 포함하여 4개의 트랙이 포함된 다가오는 시조 데뷔 연장 플레이가 발표되었다.[8] 7월 23일, 그룹의 두 8월에는 롤라팔루자(Lollapalooza)에서 미국 첫 라이브 공연을 펼쳤고, 이 페스티벌에서 공연하는 K팝 걸그룹 최초가 됐다.[57] 이 그룹은 2023년 9월 1일 김종서의 \\'Beautiful Restriction\\'을 리메이크한 \\'A Time Called You\\' OST를 발매했다.[58]\\n2023년 9월 26일, 리그 오브 레전드 개발사 라이엇 게임즈는 NewJeans가 10월 10일부터 11월 19일까지 대한민국에서 개최되는 이름은 또한 새로운 세대(new generation)의 팝 음악을 선도하는 그룹을 가리키는 \"new genes\"라는 문구의 말장난이기도 하다.[3][4]\\n역사[편집]\\n2011~2022: 데뷔 전 활동 및 결성[편집]\\nNewJeans로 데뷔하기 전에 여러 그룹 멤버가 TV, 음악, 댄스에 참여했다.'}]\n",
      "# {'run_id': UUID('1432577c-24d1-486c-9c05-61a02917c9c9'), 'parent_run_id': UUID('31c9621e-9b8e-4bf0-ad5d-b12bc9839a8b'), 'tags': [], 'color': 'yellow', 'name': 'tavily_search_results_json'}\n",
      "\u001b[33;1m\u001b[1;3m[{'url': 'https://ko.wikipedia.org/wiki/NewJeans', 'content': '구성원[편집]\\n음반[편집]\\nEP[편집]\\n싱글[편집]\\n리믹스[편집]\\n음반 외 활동[편집]\\n텔레비전 방송 프로그램[편집]\\n수상 목록[편집]\\n가요 프로그램 1위[편집]\\n시상식[편집]\\n각주[편집]\\n외부 링크[편집] 넘어섰다.[26]\\n8월 1일, NewJeans는 세 번째 싱글 \"Cookie\"와 함께 데뷔 EP를 디지털 방식으로 발표했다.[27] 이 노래는 가사에 성적인 풍자가 포함되어 있다고 생각하는 일부 평론가들로부터 비판을 받았다.[28] ADOR는 비난을 부인하고 가사가 \"CD를 굽는 것과 쿠키를 굽는 것의 짝을 이루는 아이디어, 한국어에서 동일한 개념 동사를 공유하는 것\"을 의미한다고 밝혔다.[29] 이 EP의 오프라인 버전은 8월 8일 발매되어 100만 장 이상 판매되어 대한민국 K팝 여성 가수의 베스트셀러 데뷔 앨범이자 2011년 서클 차트 설립 이후 이를 달성한 유일한 데뷔 앨범이 되었다.[30] Get Up[편집]\\nADOR는 2022년 7월 1일에 \\'22\\', \\'7\\', \\'22\\'라는 숫자의 애니메이션 영상 3편을 게재하며 신인 걸그룹 론칭을 예고해, 7월 22일 콘텐츠 공개에 대한 추측을 불러일으켰다.[21] 7월 22일 데뷔 싱글 \\'Attention\\' 뮤직비디오를 사전 프로모션이나 라인업 정보 없이 깜짝 공개했다.[22] 빌보드는 이 움직임을 \"위험하지만 궁극적으로 활력이 넘친다\"고 묘사했으며, 그 성공을 \"무엇보다 음악에 중점을 둔 것\"으로 평가했다.[23] 이 비디오에는 2개의 추가 싱글을 포함하여 4개의 트랙이 포함된 다가오는 시조 데뷔 연장 플레이가 발표되었다.[8] 7월 23일, 그룹의 두 8월에는 롤라팔루자(Lollapalooza)에서 미국 첫 라이브 공연을 펼쳤고, 이 페스티벌에서 공연하는 K팝 걸그룹 최초가 됐다.[57] 이 그룹은 2023년 9월 1일 김종서의 \\'Beautiful Restriction\\'을 리메이크한 \\'A Time Called You\\' OST를 발매했다.[58]\\n2023년 9월 26일, 리그 오브 레전드 개발사 라이엇 게임즈는 NewJeans가 10월 10일부터 11월 19일까지 대한민국에서 개최되는 이름은 또한 새로운 세대(new generation)의 팝 음악을 선도하는 그룹을 가리키는 \"new genes\"라는 문구의 말장난이기도 하다.[3][4]\\n역사[편집]\\n2011~2022: 데뷔 전 활동 및 결성[편집]\\nNewJeans로 데뷔하기 전에 여러 그룹 멤버가 TV, 음악, 댄스에 참여했다.'}]\u001b[0m\u001b[32;1m\u001b[1;3m연예인 그룹인 NewJeans는 대한민국의 걸그룹으로, 2011년 서클 차트 설립 이후 가장 많은 앨범을 판매한 데뷔 앨범을 발표한 그룹입니다. 그들은 2022년 7월에 신인 걸그룹 론칭을 예고하며 활동을 시작했고, 7월 22일에는 데뷔 싱글 'Attention' 뮤직비디오를 깜짝 공개했습니다. 이후에는 다가오는 시조 데뷔 연장 플레이와 미국 첫 라이브 공연을 성공적으로 펼쳤습니다. 또한, 2023년 9월에는 'A Time Called You' OST를 발매하기도 했습니다. NewJeans는 팝 음악을 선도하는 새로운 세대의 그룹으로 평가되고 있습니다. 자세한 내용은 [위키백과](https://ko.wikipedia.org/wiki/NewJeans)에서 확인할 수 있습니다.\u001b[0m\n",
      "\n",
      "\u001b[1m> Finished chain.\u001b[0m\n",
      "{'input': '연예인 뉴진스에 대해 설명해주세요.', 'output': \"연예인 그룹인 NewJeans는 대한민국의 걸그룹으로, 2011년 서클 차트 설립 이후 가장 많은 앨범을 판매한 데뷔 앨범을 발표한 그룹입니다. 그들은 2022년 7월에 신인 걸그룹 론칭을 예고하며 활동을 시작했고, 7월 22일에는 데뷔 싱글 'Attention' 뮤직비디오를 깜짝 공개했습니다. 이후에는 다가오는 시조 데뷔 연장 플레이와 미국 첫 라이브 공연을 성공적으로 펼쳤습니다. 또한, 2023년 9월에는 'A Time Called You' OST를 발매하기도 했습니다. NewJeans는 팝 음악을 선도하는 새로운 세대의 그룹으로 평가되고 있습니다. 자세한 내용은 [위키백과](https://ko.wikipedia.org/wiki/NewJeans)에서 확인할 수 있습니다.\"}\n",
      "domain: {'name': 'tavily_search_results_json', 'description': 'A search engine optimized for comprehensive, accurate, and trusted results. Useful for when you need to answer questions about current events. Input should be a search query.'}\n",
      "details: [{'url': 'https://ko.wikipedia.org/wiki/NewJeans', 'content': '구성원[편집]\\n음반[편집]\\nEP[편집]\\n싱글[편집]\\n리믹스[편집]\\n음반 외 활동[편집]\\n텔레비전 방송 프로그램[편집]\\n수상 목록[편집]\\n가요 프로그램 1위[편집]\\n시상식[편집]\\n각주[편집]\\n외부 링크[편집] 넘어섰다.[26]\\n8월 1일, NewJeans는 세 번째 싱글 \"Cookie\"와 함께 데뷔 EP를 디지털 방식으로 발표했다.[27] 이 노래는 가사에 성적인 풍자가 포함되어 있다고 생각하는 일부 평론가들로부터 비판을 받았다.[28] ADOR는 비난을 부인하고 가사가 \"CD를 굽는 것과 쿠키를 굽는 것의 짝을 이루는 아이디어, 한국어에서 동일한 개념 동사를 공유하는 것\"을 의미한다고 밝혔다.[29] 이 EP의 오프라인 버전은 8월 8일 발매되어 100만 장 이상 판매되어 대한민국 K팝 여성 가수의 베스트셀러 데뷔 앨범이자 2011년 서클 차트 설립 이후 이를 달성한 유일한 데뷔 앨범이 되었다.[30] Get Up[편집]\\nADOR는 2022년 7월 1일에 \\'22\\', \\'7\\', \\'22\\'라는 숫자의 애니메이션 영상 3편을 게재하며 신인 걸그룹 론칭을 예고해, 7월 22일 콘텐츠 공개에 대한 추측을 불러일으켰다.[21] 7월 22일 데뷔 싱글 \\'Attention\\' 뮤직비디오를 사전 프로모션이나 라인업 정보 없이 깜짝 공개했다.[22] 빌보드는 이 움직임을 \"위험하지만 궁극적으로 활력이 넘친다\"고 묘사했으며, 그 성공을 \"무엇보다 음악에 중점을 둔 것\"으로 평가했다.[23] 이 비디오에는 2개의 추가 싱글을 포함하여 4개의 트랙이 포함된 다가오는 시조 데뷔 연장 플레이가 발표되었다.[8] 7월 23일, 그룹의 두 8월에는 롤라팔루자(Lollapalooza)에서 미국 첫 라이브 공연을 펼쳤고, 이 페스티벌에서 공연하는 K팝 걸그룹 최초가 됐다.[57] 이 그룹은 2023년 9월 1일 김종서의 \\'Beautiful Restriction\\'을 리메이크한 \\'A Time Called You\\' OST를 발매했다.[58]\\n2023년 9월 26일, 리그 오브 레전드 개발사 라이엇 게임즈는 NewJeans가 10월 10일부터 11월 19일까지 대한민국에서 개최되는 이름은 또한 새로운 세대(new generation)의 팝 음악을 선도하는 그룹을 가리키는 \"new genes\"라는 문구의 말장난이기도 하다.[3][4]\\n역사[편집]\\n2011~2022: 데뷔 전 활동 및 결성[편집]\\nNewJeans로 데뷔하기 전에 여러 그룹 멤버가 TV, 음악, 댄스에 참여했다.'}]\n"
     ]
    }
   ],
   "source": [
    "# llm\n",
    "llm=ChatOpenAI(\n",
    "    model=\"gpt-3.5-turbo-0125\",\n",
    "    temperature=0\n",
    ")\n",
    "\n",
    "# prompt\n",
    "prompt = ChatPromptTemplate.from_messages(\n",
    "    [\n",
    "        (\n",
    "            \"system\",\n",
    "            \"\"\"\n",
    "            당신은 법률기반 질의응답에 기반해 사용자의 질문에 답변하는 챗봇입니다.\n",
    "            반드시 전달받은 context에 기반해 답변해야 하며,\n",
    "            전달받은 context로 답변할 수 없을 시 답변을 절대 하면 안 됩니다.\n",
    "            Lets' think step by step.\n",
    "            \"\"\"\n",
    "        ),\n",
    "        (\"user\", \"{input}\"),\n",
    "        MessagesPlaceholder(variable_name=\"agent_scratchpad\") # 메세지 리스트를 전달하는 공간\n",
    "    ]\n",
    ")\n",
    "\n",
    "retriever_tool = create_retriever_tool(\n",
    "    retriever,\n",
    "    \"law_qa_search\",\n",
    "    \"법률에 대한 질문이라면 반드시 이 tool을 사용하세요.\",\n",
    ")\n",
    "\n",
    "\n",
    "# search\n",
    "search = TavilySearchResults(max_results=1)\n",
    "\n",
    "# tools\n",
    "# tools = [retriever_tool]\n",
    "tools = [retriever_tool, search]\n",
    "\n",
    "\n",
    "# # 언어체인\n",
    "# combine_docs_chain = create_stuff_documents_chain(llm, prompt)\n",
    "# # 검색체인\n",
    "# retrieval_chain = create_retrieval_chain(retriever, combine_docs_chain)\n",
    "\n",
    "agent = create_openai_functions_agent(llm, tools, prompt)\n",
    "agent_executor = AgentExecutor(agent=agent, tools=tools, verbose=True)\n",
    "\n",
    "\n",
    "customHandler = MyCustomHandler()\n",
    "\n",
    "result1 = agent_executor.invoke({\"input\": \"근로기준법상 근로자에는 정규직만 들어가는 건가요?\"})\n",
    "result2 = agent_executor.invoke({\n",
    "    \"input\": \"연예인 뉴진스에 대해 설명해주세요.\"\n",
    "    }, \n",
    "    {\n",
    "        \"callbacks\": [customHandler]\n",
    "    })\n",
    "\n",
    "print(result2)\n",
    "print(\"domain:\", customHandler.domain)\n",
    "print(\"details:\", customHandler.details)"
   ]
  },
  {
   "cell_type": "markdown",
   "metadata": {},
   "source": [
    "# Agents 접목"
   ]
  },
  {
   "cell_type": "code",
   "execution_count": 27,
   "metadata": {},
   "outputs": [],
   "source": [
    "import bs4\n",
    "from langchain import hub\n",
    "from langchain.chains import create_retrieval_chain\n",
    "from langchain.chains.combine_documents import create_stuff_documents_chain\n",
    "from langchain_chroma import Chroma\n",
    "from langchain_community.document_loaders import WebBaseLoader\n",
    "from langchain_core.output_parsers import StrOutputParser\n",
    "from langchain_core.prompts import ChatPromptTemplate\n",
    "from langchain_core.runnables import RunnablePassthrough\n",
    "from langchain_openai import OpenAIEmbeddings\n",
    "from langchain_text_splitters import RecursiveCharacterTextSplitter"
   ]
  },
  {
   "cell_type": "code",
   "execution_count": 29,
   "metadata": {},
   "outputs": [],
   "source": [
    "from langchain_openai import ChatOpenAI\n",
    "\n",
    "llm = ChatOpenAI(model=\"gpt-3.5-turbo-0125\")"
   ]
  },
  {
   "cell_type": "code",
   "execution_count": 30,
   "metadata": {},
   "outputs": [],
   "source": [
    "# 1. Load, chunk and index the contents of the blog to create a retriever.\n",
    "\n",
    "vectorstore = Chroma(persist_directory='../data/chroma_db', embedding_function=OpenAIEmbeddings())"
   ]
  },
  {
   "cell_type": "code",
   "execution_count": 31,
   "metadata": {},
   "outputs": [],
   "source": [
    "retriever = vectorstore.as_retriever()"
   ]
  },
  {
   "cell_type": "code",
   "execution_count": 35,
   "metadata": {},
   "outputs": [
    {
     "ename": "ValueError",
     "evalue": "Checkpointer requires one or more of the following 'configurable' keys: ['thread_id', 'thread_ts']",
     "output_type": "error",
     "traceback": [
      "\u001b[1;31m---------------------------------------------------------------------------\u001b[0m",
      "\u001b[1;31mValueError\u001b[0m                                Traceback (most recent call last)",
      "Cell \u001b[1;32mIn[35], line 27\u001b[0m\n\u001b[0;32m     19\u001b[0m agent_executor \u001b[38;5;241m=\u001b[39m chat_agent_executor\u001b[38;5;241m.\u001b[39mcreate_tool_calling_executor(\n\u001b[0;32m     20\u001b[0m     llm, tools, checkpointer\u001b[38;5;241m=\u001b[39mmemory\n\u001b[0;32m     21\u001b[0m )\n\u001b[0;32m     25\u001b[0m customHandler \u001b[38;5;241m=\u001b[39m MyCustomHandler()\n\u001b[1;32m---> 27\u001b[0m result1 \u001b[38;5;241m=\u001b[39m \u001b[43magent_executor\u001b[49m\u001b[38;5;241;43m.\u001b[39;49m\u001b[43minvoke\u001b[49m\u001b[43m(\u001b[49m\u001b[43m{\u001b[49m\u001b[38;5;124;43m\"\u001b[39;49m\u001b[38;5;124;43minput\u001b[39;49m\u001b[38;5;124;43m\"\u001b[39;49m\u001b[43m:\u001b[49m\u001b[43m \u001b[49m\u001b[38;5;124;43m\"\u001b[39;49m\u001b[38;5;124;43m근로기준법상 근로자에는 정규직만 들어가는 건가요?\u001b[39;49m\u001b[38;5;124;43m\"\u001b[39;49m\u001b[43m}\u001b[49m\u001b[43m)\u001b[49m\n\u001b[0;32m     28\u001b[0m \u001b[38;5;66;03m# result2 = agent_executor.invoke({\u001b[39;00m\n\u001b[0;32m     29\u001b[0m \u001b[38;5;66;03m#     \"input\": \"연예인 뉴진스에 대해 설명해주세요.\"\u001b[39;00m\n\u001b[0;32m     30\u001b[0m \u001b[38;5;66;03m#     }, \u001b[39;00m\n\u001b[0;32m     31\u001b[0m \u001b[38;5;66;03m#     {\u001b[39;00m\n\u001b[0;32m     32\u001b[0m \u001b[38;5;66;03m#         \"callbacks\": [customHandler]\u001b[39;00m\n\u001b[0;32m     33\u001b[0m \u001b[38;5;66;03m#     })\u001b[39;00m\n\u001b[0;32m     34\u001b[0m result2 \u001b[38;5;241m=\u001b[39m agent_executor\u001b[38;5;241m.\u001b[39minvoke({\u001b[38;5;124m\"\u001b[39m\u001b[38;5;124minput\u001b[39m\u001b[38;5;124m\"\u001b[39m: \u001b[38;5;124m'\u001b[39m\u001b[38;5;124m최저임금은?\u001b[39m\u001b[38;5;124m'\u001b[39m})\n",
      "File \u001b[1;32mc:\\Users\\oksk1\\venv\\lc_rag\\Lib\\site-packages\\langgraph\\pregel\\__init__.py:1333\u001b[0m, in \u001b[0;36mPregel.invoke\u001b[1;34m(self, input, config, stream_mode, output_keys, input_keys, interrupt_before, interrupt_after, debug, **kwargs)\u001b[0m\n\u001b[0;32m   1331\u001b[0m \u001b[38;5;28;01melse\u001b[39;00m:\n\u001b[0;32m   1332\u001b[0m     chunks \u001b[38;5;241m=\u001b[39m []\n\u001b[1;32m-> 1333\u001b[0m \u001b[43m\u001b[49m\u001b[38;5;28;43;01mfor\u001b[39;49;00m\u001b[43m \u001b[49m\u001b[43mchunk\u001b[49m\u001b[43m \u001b[49m\u001b[38;5;129;43;01min\u001b[39;49;00m\u001b[43m \u001b[49m\u001b[38;5;28;43mself\u001b[39;49m\u001b[38;5;241;43m.\u001b[39;49m\u001b[43mstream\u001b[49m\u001b[43m(\u001b[49m\n\u001b[0;32m   1334\u001b[0m \u001b[43m    \u001b[49m\u001b[38;5;28;43minput\u001b[39;49m\u001b[43m,\u001b[49m\n\u001b[0;32m   1335\u001b[0m \u001b[43m    \u001b[49m\u001b[43mconfig\u001b[49m\u001b[43m,\u001b[49m\n\u001b[0;32m   1336\u001b[0m \u001b[43m    \u001b[49m\u001b[43mstream_mode\u001b[49m\u001b[38;5;241;43m=\u001b[39;49m\u001b[43mstream_mode\u001b[49m\u001b[43m,\u001b[49m\n\u001b[0;32m   1337\u001b[0m \u001b[43m    \u001b[49m\u001b[43moutput_keys\u001b[49m\u001b[38;5;241;43m=\u001b[39;49m\u001b[43moutput_keys\u001b[49m\u001b[43m,\u001b[49m\n\u001b[0;32m   1338\u001b[0m \u001b[43m    \u001b[49m\u001b[43minput_keys\u001b[49m\u001b[38;5;241;43m=\u001b[39;49m\u001b[43minput_keys\u001b[49m\u001b[43m,\u001b[49m\n\u001b[0;32m   1339\u001b[0m \u001b[43m    \u001b[49m\u001b[43minterrupt_before\u001b[49m\u001b[38;5;241;43m=\u001b[39;49m\u001b[43minterrupt_before\u001b[49m\u001b[43m,\u001b[49m\n\u001b[0;32m   1340\u001b[0m \u001b[43m    \u001b[49m\u001b[43minterrupt_after\u001b[49m\u001b[38;5;241;43m=\u001b[39;49m\u001b[43minterrupt_after\u001b[49m\u001b[43m,\u001b[49m\n\u001b[0;32m   1341\u001b[0m \u001b[43m    \u001b[49m\u001b[43mdebug\u001b[49m\u001b[38;5;241;43m=\u001b[39;49m\u001b[43mdebug\u001b[49m\u001b[43m,\u001b[49m\n\u001b[0;32m   1342\u001b[0m \u001b[43m    \u001b[49m\u001b[38;5;241;43m*\u001b[39;49m\u001b[38;5;241;43m*\u001b[39;49m\u001b[43mkwargs\u001b[49m\u001b[43m,\u001b[49m\n\u001b[0;32m   1343\u001b[0m \u001b[43m\u001b[49m\u001b[43m)\u001b[49m\u001b[43m:\u001b[49m\n\u001b[0;32m   1344\u001b[0m \u001b[43m    \u001b[49m\u001b[38;5;28;43;01mif\u001b[39;49;00m\u001b[43m \u001b[49m\u001b[43mstream_mode\u001b[49m\u001b[43m \u001b[49m\u001b[38;5;241;43m==\u001b[39;49m\u001b[43m \u001b[49m\u001b[38;5;124;43m\"\u001b[39;49m\u001b[38;5;124;43mvalues\u001b[39;49m\u001b[38;5;124;43m\"\u001b[39;49m\u001b[43m:\u001b[49m\n\u001b[0;32m   1345\u001b[0m \u001b[43m        \u001b[49m\u001b[43mlatest\u001b[49m\u001b[43m \u001b[49m\u001b[38;5;241;43m=\u001b[39;49m\u001b[43m \u001b[49m\u001b[43mchunk\u001b[49m\n",
      "File \u001b[1;32mc:\\Users\\oksk1\\venv\\lc_rag\\Lib\\site-packages\\langgraph\\pregel\\__init__.py:730\u001b[0m, in \u001b[0;36mPregel.stream\u001b[1;34m(self, input, config, stream_mode, output_keys, input_keys, interrupt_before, interrupt_after, debug)\u001b[0m\n\u001b[0;32m    728\u001b[0m     \u001b[38;5;28;01mraise\u001b[39;00m \u001b[38;5;167;01mValueError\u001b[39;00m(\u001b[38;5;124m\"\u001b[39m\u001b[38;5;124mrecursion_limit must be at least 1\u001b[39m\u001b[38;5;124m\"\u001b[39m)\n\u001b[0;32m    729\u001b[0m \u001b[38;5;28;01mif\u001b[39;00m \u001b[38;5;28mself\u001b[39m\u001b[38;5;241m.\u001b[39mcheckpointer \u001b[38;5;129;01mand\u001b[39;00m \u001b[38;5;129;01mnot\u001b[39;00m config\u001b[38;5;241m.\u001b[39mget(\u001b[38;5;124m\"\u001b[39m\u001b[38;5;124mconfigurable\u001b[39m\u001b[38;5;124m\"\u001b[39m):\n\u001b[1;32m--> 730\u001b[0m     \u001b[38;5;28;01mraise\u001b[39;00m \u001b[38;5;167;01mValueError\u001b[39;00m(\n\u001b[0;32m    731\u001b[0m         \u001b[38;5;124mf\u001b[39m\u001b[38;5;124m\"\u001b[39m\u001b[38;5;124mCheckpointer requires one or more of the following \u001b[39m\u001b[38;5;124m'\u001b[39m\u001b[38;5;124mconfigurable\u001b[39m\u001b[38;5;124m'\u001b[39m\u001b[38;5;124m keys: \u001b[39m\u001b[38;5;132;01m{\u001b[39;00m[s\u001b[38;5;241m.\u001b[39mid\u001b[38;5;250m \u001b[39m\u001b[38;5;28;01mfor\u001b[39;00m\u001b[38;5;250m \u001b[39ms\u001b[38;5;250m \u001b[39m\u001b[38;5;129;01min\u001b[39;00m\u001b[38;5;250m \u001b[39m\u001b[38;5;28mself\u001b[39m\u001b[38;5;241m.\u001b[39mcheckpointer\u001b[38;5;241m.\u001b[39mconfig_specs]\u001b[38;5;132;01m}\u001b[39;00m\u001b[38;5;124m\"\u001b[39m\n\u001b[0;32m    732\u001b[0m     )\n\u001b[0;32m    733\u001b[0m \u001b[38;5;66;03m# assign defaults\u001b[39;00m\n\u001b[0;32m    734\u001b[0m (\n\u001b[0;32m    735\u001b[0m     debug,\n\u001b[0;32m    736\u001b[0m     stream_modes,\n\u001b[1;32m   (...)\u001b[0m\n\u001b[0;32m    748\u001b[0m     debug\u001b[38;5;241m=\u001b[39mdebug,\n\u001b[0;32m    749\u001b[0m )\n",
      "\u001b[1;31mValueError\u001b[0m: Checkpointer requires one or more of the following 'configurable' keys: ['thread_id', 'thread_ts']"
     ]
    }
   ],
   "source": [
    "from langgraph.prebuilt import chat_agent_executor\n",
    "from langchain.tools.retriever import create_retriever_tool\n",
    "\n",
    "llm = ChatOpenAI(model=\"gpt-3.5-turbo-0125\")\n",
    "retriever = vectorstore.as_retriever()\n",
    "\n",
    "tool = create_retriever_tool(\n",
    "    retriever,\n",
    "    \"law_qna_retriever\",\n",
    "    \"Searches and returns exceprts from the Autonomous Agents Q&A.\"\n",
    ")\n",
    "tools = [tool]\n",
    "\n",
    "config = {\"configurable\": {\"thread_id\": \"abc123\"}}\n",
    "from langgraph.checkpoint.sqlite import SqliteSaver\n",
    "\n",
    "memory = SqliteSaver.from_conn_string(\":memory:\")\n",
    "\n",
    "agent_executor = chat_agent_executor.create_tool_calling_executor(\n",
    "    llm, tools, checkpointer=memory\n",
    ")\n",
    "\n",
    "\n",
    "\n",
    "customHandler = MyCustomHandler()\n",
    "\n",
    "# result1 = agent_executor.invoke({\"input\": \"근로기준법상 근로자에는 정규직만 들어가는 건가요?\"})\n",
    "# # result2 = agent_executor.invoke({\n",
    "# #     \"input\": \"연예인 뉴진스에 대해 설명해주세요.\"\n",
    "# #     }, \n",
    "# #     {\n",
    "# #         \"callbacks\": [customHandler]\n",
    "# #     })\n",
    "# result2 = agent_executor.invoke({\"input\": '최저임금은?'})\n",
    "\n",
    "# print(result2)\n",
    "# print(\"domain:\", customHandler.domain)\n",
    "# print(\"details:\", customHandler.details)\n"
   ]
  },
  {
   "cell_type": "code",
   "execution_count": 36,
   "metadata": {},
   "outputs": [
    {
     "name": "stdout",
     "output_type": "stream",
     "text": [
      "{'agent': {'messages': [AIMessage(content='', additional_kwargs={'tool_calls': [{'id': 'call_Fk4Wcx3mw90oSWK9byI3gWx4', 'function': {'arguments': '{\"query\":\"근로기준법 근로자 정규직\"}', 'name': 'law_qna_retriever'}, 'type': 'function'}]}, response_metadata={'token_usage': {'completion_tokens': 36, 'prompt_tokens': 97, 'total_tokens': 133}, 'model_name': 'gpt-3.5-turbo-0125', 'system_fingerprint': None, 'finish_reason': 'tool_calls', 'logprobs': None}, id='run-87fdba32-cc21-4a67-a89c-ff66db315efc-0', tool_calls=[{'name': 'law_qna_retriever', 'args': {'query': '근로기준법 근로자 정규직'}, 'id': 'call_Fk4Wcx3mw90oSWK9byI3gWx4'}])]}}\n",
      "----\n",
      "{'tools': {'messages': [ToolMessage(content='평소 4명이서 일하는 사업장에서 예약이 밀리거나 할 때 일용직을 고용하는 경우도 상시 근로자에 해당되나요?,,\"대법원 2008. 3. 27. 선고 2008도364 판결에 따르면 ‘상시 5인 이상의 근로자를 사용하는 사업 또는 사업장’이라 함은 ‘상시 근무하는 근로자의 수가 5인 이상인 사업 또는 사업장’이 아니라 ‘사용하는 근로자의 수가 상시 5인 이상인 사업 또는 사업장’을 뜻하는 것이고, 이 경우 상시라 함은 상태라고 하는 의미로서 근로자의 수가 때때로 5인 미만이 되는 경우가 있어도 사회통념에 의하여 객관적으로 판단하여 상태적으로 5인 이상이 되는 경우에는 이에 해당한다 할 것이고, 여기의 근로자에는 당해 사업장에 계속 근무하는 근로자뿐만 아니라 그때 그때의 필요에 의하여 사용하는 일용근로자를 포함한다고 해석하여야 할 것이다라고 판시하므로 일용직을 고용하여 5인 이상이 될 경우 5인 이상 사업장으로 보아야 합니다.\"\\n\"명절과 연초, 연말에 정기적으로 지급받는 상여금이 근로기준법의 적용을 받는 임금에 해당하나요?\",,\"대법원 2005. 9. 9. 선고 2004다41217 판결에 따르면 상여금이 계속적ㆍ정기적으로 지급되고 그 지급액이 확정되어 있다면 이는 근로의 대가로 지급되는 임금의 성질을 가지나 그 지급사유의 발생이 불확정이고 일시적으로 지급되는 것은 임금이라고 볼 수 없다고 판시하고 있습니다.       따라서 명절과 연초, 연말에 계속적·정기적으로 지급되고 임금의 50%로 그 지급액이 확정되어 있다면 근로의 대가로 지급되는 임금의 성질을 가지므로 임금으로 볼 수 있습니다.\"\\n근로기준법상 근로자에는 정규직만 들어가는 건가요?,,\"계약직, 파견직도 근로기준법이 적용되며 그 외에 기간제 및 단시간 근로자보호 등에 관한 법률과 파견근로자에 관한 법률 등이 추가적으로 적용됩니다.\"\\n\\n회사에서 정규직으로 일하다가 육아를 위해 육아기 근로시간 단축 제도를 이용하고 있습니다. 회사에서 저는 정규직과 같은 대우를 받을 수 있나요?,,시간선택제 근로자는 법률상 「근로기준법」의 단시간근로자에 해당됩니다. 따라서 시간선택제 근로자는 「근로기준법」과 「기간제 및 단시간근로자 보호 등에 관한 법률」의 단시간근로자에 대한 규정이 적용됩니다.\\n유학을 가면서 국내의 운전면허증을 국제운전면허증으로 바꾸어 가려고 합니다. 국제운전면허증을 사용할 때 주의해야 할 점은 무엇인가요?,,\"네, 국제운전면허증의 유효기간은 1년이라는 사실을 꼭 기억하세요. 그 밖에 유의사항은 다음과 같습니다.\"\\n「저작권법」에서 보호하는 저작물에는 어떤 것들이 있나요?,,\"“저작물”이란 인간의 사상 또는 감정을 표현한 창작물로서 「저작권법」에 따라 보호되는 저작물에는 어문저작물, 음악저작물, 연극저작물, 미술저작물, 건축저작물, 사진저작물, 영상저작물, 도형저작물, 컴퓨터프로그램저작물 등이 있습니다.\"\\n주민투표를 했는데 개표를 하지 않는대요. 그럴 수 있나요?,,주민투표의 개표를 위해서는 주민투표권자 총수의 1/4 이상의 투표가 필요합니다.\\n\"가정폭력을 피해 집을 나왔는데, 당장 갈 곳이 없습니다. 어떡하면 좋을까요?\",,\"가정폭력 피해자와 그 가정구성원은 가정폭력을 피해 가정폭력 보호시설에서 임시로 머물며 숙식 제공, 전문적 상담 및 치료, 법률지원 등을 받을 수 있습니다.\"\\n\\n\"저는 2008. 5. 5.에 설립한 甲회사에 취직하였습니다. 甲회사는 상시근로자가 3인인 소규모 사업장입니다. 저는 현재 이 회사에서 1년 이상 일한 상태이고, 현재 이직을 고려 중입니다. 그런데 사장님은 회사가 상시근로자 4인 이하인 사업장이어서 퇴직금제도가 적용되지 않는다고 합니다. 이것이 정말인가요?\",,\"근로자퇴직급여보장법은 제3조에서 1명 이상 근로자를 사용하는 모든 사업 또는 사업장에 동법을 적용한다고 규정하고 있으며, 동법 부칙 제8조에서는 “상시 4명 이하의 근로자를 사용하는 사업에 대하여는 법률 제7379호 근로자퇴직급여보장법 부칙 제1조 단서에 따라 2010년 12월 1일부터 퇴직급여제도가 시행된 것으로 본다.”라고 정하고 있습니다.  따라서 2010. 12. 1.부터는 상시 4명 이하의 근로자를 사용하는 사업에 대하여도 퇴직급여제도가 적용됩니다. 다만, 2012. 12. 1. 전의 기간은 퇴직금 산정을 위한 계속근로연수에 산입되지 않습니다.\"\\n\"저는 甲회사에서 비정규직인 일용직으로 일하던 중, 甲 회사의 정규직 채용절차를 밟아 정규직으로 채용이 되었습니다. 그 후 甲회사에 일용직 사직서를 제출하였습니다. 이 경우, 나중에 제가 퇴직할 때 적용되는 계속근로기간은 언제부터인가요?\",,\"근로자가 일용직 신분을 계속 유지하고 있는 상태에서, 정규직 채용절차를 밟아 채용이 확정된 후에 일용직 사직서를 제출한 경우, 이는 내부적 절차 및 기준에 따라 일용직에서 정규직으로 환직된 것에 불과하다고 볼 수 있어 퇴직금 계산을 위한 계속근로연수는 실제 근로를 제공한 시점부터 기산함이 타당합니다(임금 68207-581 회시일자 : 2000-11-14).  따라서 사안의 경우 일용직으로서 실제 근로를 제공한 최초의 시점부터 퇴직금 산정을 위한 계속근로기간을 산정하는 것이 타당할 것으로 보입니다.\"\\n\\n\"저는 상시 종업원 수가 10명인 봉제공장에 취직하여 공장에서 지시하는 대로 야간 및 휴일근로는 물론 평일에도 10시간 이상의 일을 한 경우가 많았습니다. 근로 당시에는 몰랐으나 나중에 알고 보니 이 경우 추가수당을 받을 수 있다고 하는데, 지금이라도 청구가 가능한지요?\",,\"「근로기준법」의 적용범위에 관하여 같은 법 제11조는 “①이 법은 상시 5명 이상의 근로자를 사용하는 모든 사업 또는 사업장에 적용한다. 다만, 동거하는 친족만을 사용하는 사업 또는 사업장과 가사사용인에 대하여는 적용하지 아니한다. ②상시 4명 이하의 근로자를 사용하는 사업 또는 사업장에 대하여는 대통령령으로 정하는 바에 따라 이 법의 일부규정을 적용할 수 있다.”라고 규정하고 있으며, 같은 법 시행령 제7조에서는 상시 4명 이하의 근로자를 사용하는 사업 또는 사업장에 적용하는 법규정을 [별표1]로 정하고 있는데, 「근로기준법」의 근로시간(제50조), 연장 근로의 제한(제53조), 연장·야간 및 휴일근로(제56조) 등의 규정은 4인 이하의 사업 또는 사업장에는 적용되지 않습니다.그런데 귀하의 직장은 상시 5명 이상의 근로자를 사용하는 사업장이므로 「근로기준법」제50조, 제53조, 제56조의 규정이 적용되는 사업장입니다.근로시간에 대하여 18세 이상의 남자근로자를 기준으로 살펴보면, 근로시간은 휴게시간을 제하고 1일에 8시간, 1주간에 40시간을 초과할 수 없으나, 당사자간의 합의가 있는 경우에는 1주간에 12시간을 한도로 위의 근로시간을 연장할 수 있습니다(같은 법 제50조, 제53조 제1항).사용자는 근로자가 연장근로와 야간근로(오후 10시부터 오전 6시까지 사이의 근로) 또는 휴일근로를 할 경우 사용자는 그 근로부분에 대하여 통상임금의 100분의 50 이상을 가산하여 지급하여야 하며, 만일 휴일근로가 연장근로 및 야간근로와 중복되는 경우 즉, 휴일에 1일 8시간을 넘는 부분에 대해서는 휴일근로와 연장근로에 대한 가산수당을 모두 지급해야 합니다(같은 법 제56조, 대법원 1991.', name='law_qna_retriever', id='9cc5a0ef-1e36-44ae-a0b6-34ce19b3aa52', tool_call_id='call_Fk4Wcx3mw90oSWK9byI3gWx4')]}}\n",
      "----\n",
      "{'agent': {'messages': [AIMessage(content='근로기준법에 따르면, 정규직 외에도 계약직, 파견직, 기간제 근로자 등 다양한 형태의 근로자에게 적용됩니다. 추가로, 단시간 근로자 보호 등에 관한 법률과 파견근로자에 관한 법률 등도 해당 근로자들에게 추가적으로 적용됩니다. 따라서 근로기준법상 근로자에는 정규직만이 아니라 다양한 형태의 근로자들이 포함됩니다.', response_metadata={'token_usage': {'completion_tokens': 175, 'prompt_tokens': 3456, 'total_tokens': 3631}, 'model_name': 'gpt-3.5-turbo-0125', 'system_fingerprint': None, 'finish_reason': 'stop', 'logprobs': None}, id='run-f7fa8079-3c9f-41db-8b78-cb990d248e2f-0')]}}\n",
      "----\n"
     ]
    }
   ],
   "source": [
    "query = \"근로기준법상 근로자에는 정규직만 들어가는 건가요?\"\n",
    "\n",
    "for s in agent_executor.stream(\n",
    "    {\"messages\": [HumanMessage(content=query)]}, config=config\n",
    "):\n",
    "    print(s)\n",
    "    print(\"----\")"
   ]
  },
  {
   "cell_type": "code",
   "execution_count": 37,
   "metadata": {},
   "outputs": [
    {
     "name": "stdout",
     "output_type": "stream",
     "text": [
      "{'agent': {'messages': [AIMessage(content='', additional_kwargs={'tool_calls': [{'id': 'call_8kaIo3vZcqfFJq2eCOaFLIlH', 'function': {'arguments': '{\"query\":\"최저임금\"}', 'name': 'law_qna_retriever'}, 'type': 'function'}]}, response_metadata={'token_usage': {'completion_tokens': 25, 'prompt_tokens': 3646, 'total_tokens': 3671}, 'model_name': 'gpt-3.5-turbo-0125', 'system_fingerprint': None, 'finish_reason': 'tool_calls', 'logprobs': None}, id='run-6a902038-4bff-455e-9ca8-6f856be40980-0', tool_calls=[{'name': 'law_qna_retriever', 'args': {'query': '최저임금'}, 'id': 'call_8kaIo3vZcqfFJq2eCOaFLIlH'}])]}}\n",
      "----\n",
      "{'tools': {'messages': [ToolMessage(content='최저임금안을 심의하며, 심의위원회로부터 최저임금안을 제출받은 때에는 지체없이 사업의 종류별 최저임금안 및 적용사업의 범위를 고시하여야 하며, 매년 8월 5일까지 최저임금을 결정하여야 합니다(같은 법 제4조, 제5조, 제8조, 제9조, 같은 법 시행령 제7조).참고로 고용노동부에서 고시한 2016년 1월 1일부터 2016년 12월 31일 까지 적용되는 최저임금액을 보면 시간급은 6,030원으로 정하고 있습니다.\"\\n\\n\"최저임금제도란 무엇이며, 최저임금액은 어떻게 결정되는지요?\",,\"최저임금제도란 국가가 임금액의 최저한도를 정하여 사용자에게 이를 준수하도록 강제하는 제도를 말합니다. 그러므로 최저임금액이 결정·고시되면 사용자는 근로자와 합의하여 최저임금액보다 낮은 임금을 지급하기로 약정하더라도 그것은 당연히 무효가 되며, 고용노동부장관이 고시한 최저임금액 이상을 지급하여야 합니다(최저임금법 제6조). 최저임금제도의 적용대상은 근로자를 사용하는 모든 사업 또는 사업장에 적용되며, 상용근로자 뿐만 아니라 임시근로자나 일용근로자, 시간제근로자 등 모든 근로자에게 적용됩니다. 다만, 동거의 친족만을 사용하는 사업과 가사사용인에 대하여는 적용하지 아니하고, 선원법의 적용을 받는 선원 및 선원을 사용하는 선박의 소유자에 대하여는 이를 적용하지 아니합니다(같은 법 제3조). 그리고 수습사용 중에 있는 자로서 수습사용한 날부터 3월 이내인 근로자는 시간급 최저임금액의 90%를 지급할 수 있고, 사용자가 고용노동부장관의 인가를 받은 감시 또는 단속적으로 근로에 종사하는 자(수위, 경비원, 자가용운전기사 등)는 시간급 최저임금액의 80%를 지급할 수 있습니다(같은 법 제5조 제2항, 같은 법 시행령 제3조).그러나 같은 법 시행령 제6조는 사용자는 고용노동부장관의 인가를 받아 ‘근로자의 정신 또는 신체의 장애가 당해 근로자를 종사시키고자 하는 업무의 수행에 직접적으로 현저한 지장을 주는 것이 명백하다고 인정되는 자’에 대하여는 최저임금의 적용을 제외할 수 있도록 규정하고 있습니다.고용노동부장관은 매년 3월 31일까지 근로자위원, 사용자위원, 공익위원 등으로 구성된 최저임금심의위원회에 최저임금에 관한 심의를 요청하여야 하고, 동 위원회에서는 근로자의 생계비, 유사근로자의 임금, 노동생산성 및 소득분배율 등을 고려하여 최저임금안을 심의하며, 심의위원회로부터 최저임금안을 제출받은 때에는 지체없이 사업의 종류별 최저임금안 및 적용사업의 범위를 고시하여야 하며, 매년 8월 5일까지 최저임금을\\n\\n\"최저시급을 받지 못하고 일을 하고 있습니다. 처음에는 사장님도 힘드니까 그런가보다 하고 일을 하려고 했지만 시간이 지나고 생각해보니 제 기본적인 권리 조차 찾지 못하고 있다는 것을 깨달았습니다. 어떻게 시급을 돌려받을 수 있을지, 어떻게 대처해야 하는지, 하나도 모르겠습니다. 증거는 하나도 모으지 못했습니다. 제가 어떤식으로 대응해야 일한 시간에 대한 보답을 제대로 받을 수 있을지 알고 싶습니다. 현재는 시급 7000원 받고 있습니다. 근무 4일차입니다. 하루 11시간 주4일로 일하고 있습니다\",,\"1. 최저임금의 위반은 범죄이며, 이에 대해서는 3년 이하의 징역 또는 2천만원 이하의 벌금에 처해질 수 있습니다(최저임금법 제28조 제1항 참조).\\xa02. 노무관계에 있어서는 고용노동청의 근로감독관이 특별사법경찰 신분으로 조사하게 됩니다.3. 따라서 귀하께서 최저임금 위반의 피해를 입으셨다면, 관할 고용노동청을 방문하시어 신고하시기 바랍니다. 근로감독관의 조사 단계에서 고용주가 최저임금에 미치지 못하는 부분을 지급하며 절차가 마무리 되기도 하고, 그렇지 않더라도 향후 이에 기반하여 민사소송 등을 통해 미지급 임금을 청구하여 받을 수 있습니다.아무쪼록 본 답변이 귀하에게 도움이 되었길 바랍니다.\"\\n\\n시간은 209시간{[(40시간 + 유급주휴시간 8시간) × 52주 + 8시간] ÷ 12}이고, 시간당 임금은 4,067원(85만원 ÷ 209시간}이므로,해당 근로자는 2016년 기준 최저임금인 6,030원 미만을 받고 있는 것입니다.\"', name='law_qna_retriever', id='c65d10eb-77d1-4a35-b646-c06cc9d10afe', tool_call_id='call_8kaIo3vZcqfFJq2eCOaFLIlH')]}}\n",
      "----\n",
      "{'agent': {'messages': [AIMessage(content='최저임금은 국가가 임금액의 최저한도를 정하여 사용자에게 이를 준수하도록 강제하는 제도입니다. 최저임금액은 매년 고용노동부에서 결정되며, 2016년 기준으로는 시간당 6,030원으로 정해져 있습니다. 최저임금을 받지 못한 경우, 해당 근로자는 관할 고용노동청을 방문하여 신고하고 조치를 취할 수 있습니다. 최저임금을 받지 못한 근로자는 법으로 보호받고 있으며, 최저임금 위반은 범죄로 간주되어 처벌될 수 있습니다. 근로자는 자신의 기본적인 권리를 보호하기 위해 적극적으로 대응하고 신고하는 것이 중요합니다.', response_metadata={'token_usage': {'completion_tokens': 257, 'prompt_tokens': 5612, 'total_tokens': 5869}, 'model_name': 'gpt-3.5-turbo-0125', 'system_fingerprint': None, 'finish_reason': 'stop', 'logprobs': None}, id='run-3a3b1970-3e45-472a-8c84-8462d82d5127-0')]}}\n",
      "----\n"
     ]
    }
   ],
   "source": [
    "query = \"최저임금은\"\n",
    "\n",
    "for s in agent_executor.stream(\n",
    "    {\"messages\": [HumanMessage(content=query)]}, config=config\n",
    "):\n",
    "    print(s)\n",
    "    print(\"----\")"
   ]
  },
  {
   "cell_type": "code",
   "execution_count": 38,
   "metadata": {},
   "outputs": [
    {
     "name": "stdout",
     "output_type": "stream",
     "text": [
      "{'agent': {'messages': [AIMessage(content='', additional_kwargs={'tool_calls': [{'id': 'call_pjrdjMeZ1nBRZSwZO4AWkeTS', 'function': {'arguments': '{\"query\":\"뉴진스 사태\"}', 'name': 'law_qna_retriever'}, 'type': 'function'}]}, response_metadata={'token_usage': {'completion_tokens': 25, 'prompt_tokens': 5884, 'total_tokens': 5909}, 'model_name': 'gpt-3.5-turbo-0125', 'system_fingerprint': None, 'finish_reason': 'tool_calls', 'logprobs': None}, id='run-17c9c242-10d7-474b-9a60-5ad78d36b143-0', tool_calls=[{'name': 'law_qna_retriever', 'args': {'query': '뉴진스 사태'}, 'id': 'call_pjrdjMeZ1nBRZSwZO4AWkeTS'}])]}}\n",
      "----\n",
      "{'tools': {'messages': [ToolMessage(content='\"국내 주식형 펀드에 투자했다가, 유럽재정 위기악화로 인하여 큰 손실을 입었습니다. 손해를 배상받고 싶은데요, 어떻게 해야 하나요?\",,\"펀드와 관련하여 분쟁이 있는 투자자는 금융감독원장에게 분쟁의 조정을 신청할 수 있으며, 한국소비자원의 소비자상담센터에 민원을 제기하거나, 한국거래소 또는 금융투자협회의 분쟁조정위원회의 자율조정제도를 통해 분쟁을 해결할 수 있습니다. 금융감독원이나 한국소비자원 등을 통한 조정절차에서 해결이 되지 않은 경우에는 법원의 민사소송이나 증권관련집단소송을 통해 권리를 구제받을 수도 있습니다.\"\\n영유아 건강검진이란 무엇이고 언제 실시하나요?,,\"\"\"영유아 건강검진\"\"이란 국민건강보험공단이 영유아의 건강증진을 도모하고 건강한 미래 인적자본으로 성장하도록 지원하기 위해 6세 미만의 영유아에게 실시하는 건강검진을 말합니다.\"\\n아이가 등교를 하던 중 사고를 당했는데 이것도 학교안전사고로 보상을 받을 수 있을까요?,,\"네, 가능합니다.\"\\n위안부 할머니들과 함께 일본대사관 앞에서 집회를 개최하려고 하는데 외교기관인 대사관 앞에서도 집회(시위)를 개최할 수 있나요?,,원칙적으로 국내 주재 외국의 외교기관이나 외교사절의 숙소의 경계 지점으로부터 100미터 이내의 장소에서는 옥외집회 또는 시위가 금지되지만 대규모 집회 또는 시위로 확산될 우려가 없는 경우로서 외교기관의 기능이나 안녕을 침해할 우려가 없다고 인정되는 경우에는 집회(시위)를 개최할 수 있습니다.\\n\"6개월 전에 설렁탕 가게를 인수해서 운영하고 있는데요. 얼마 전, 이전 가게 주인이 영업장 면적변경 신고의무를 위반했다면서 저한테 행정처분을 한다고 연락이 왔어요. 제가 하지도 않은 일 때문에 처벌을 받는 것이 말이 되나요?\",,\"양도인이 기존의 신고의무 사항을 이행하지 않은 음식점을 인수한 경우, 양수인이 이러한 사실을 알고 있는데도 불구하고 그 신고의무를 이행하지 않은 채 영업을 계속했다면 양수인은 그 위반행위에 대해 처벌을 받을 수 있어요.\"\\n\\n\"일시 : 2021년 11월 14일 새벽 1시경 택시타고 좌회전 신호를 받고 좌회전 하던중 우측에서 우회전 하는 소나타 차량과 측면 추돌 한 교통 사고.소나타 차량 차주는 충돌 직후 약 300미터 가량을 그대로 직진하여 택시 기사님과 소나타 차량을 따라가서 잡은 후 경찰에 신고함.경찰의 음주 측정결과 소나타 차주는 음주 취소가 됨. 소나타 차량 차주의 보험사인 메리츠화재에서 다음날 대인 접수를 해주어 한의원 치료를 시작함. 약 3개월 가량의 치료비로 240만원 정도를 메리츠화재에서 병원에 지급함.그 후로부터 6개월 후 갑자기 메리츠화재에서 연락이 와서 해당 사고는 상세미상의 부위로 충격한 사고이며, 소나타 차량, 택시 모두 차량 접촉에 의한 파손등 식별 불가능한 사유로 접촉여부에 대해 국립과학수사연구원에 감정을 의뢰한 결과 접촉된 사실을 발견 할 수 없다는 감정 결과로 인해 본 건은 교통사고로 볼 수 없다하여 승객인 본인에게 교통 사고로 인해 지급된 보험금이 부당이익금이라고 하여 한의원에 지급한 240만원을 입금하라고 연락이 옴. 택시공제 보험 에서는 승객 보호 차원에서 비접촉 사고라 하여 본인에게 39만원의 합의금을 지급함.문의 : 본 사고에 대하여 택시 승객이었던 본인이 상대차주인 메리츠화재에게 지급해야 할 의무가 있나요?상대방은 음주운전 상태 였고, 또한 본인 제 3자인 승객이란 점, 사고가 아니어서 지급된 병원비에 대해서는 택시공제조합 보험과 소나타 차량의 보험사인 메리츠화재와의 둘 사이의 문제가 아닌지요? 또한 그 후 확인 결과 메리츠화재에서 지난 5월경 택시공제조합을 대상으로 소송을 시작 했는데 취한 것도 확인 되었습니다.그 후 1년 6개월 가량이 지난 현재 갑자기 승객인 저에게 연락와서 지급된 보험료를 다시 입금시키라는게 정당한 것인지. 3일전 지급명령서까지 받은 상태입니다. 병원비를 제가 다시 토해내야 하는 것인지, 아니면 민사소송을 진행 한다고 하는데 소송을 진행 해야 하는것인지 문의 드립니다.\",,\"가. 귀하의 반환 의무 등에 대해서는\\n\\n시어머니 폭행이있고나서 경찰을 통해 분리조치가 되어서 첫째랑 남편이랑 니오게되었는데 분리조치가 된 이후 남편은 일상이 거짓말이고 제가 현재 임신중인데 임산부인 저한테 무단횡단하자고도 하였고 차가 달리는데 죽을려고 뛰어들고 첫째를 돌보지도 않고 일도 안나가는 상태였는데 첫째를 보호소에 맡긴이후 사기죄로 교도소에 들어가있는 상태입니다 남편쪽에서 저를 거주불명자로 만들었고 돈도 빼간상태입니다 건강보험조차 적용이 안되는 상태이고 국가에서도 도움을 받지 못하는 상황까지 와서 미혼모 쉼터도 못 들어가는 상태입니다,,\"1. 사이버상담의 특성상 질문자님께서 올려주신 질의내용을 토대로 사실관계를 재구성하여 답변을 드리는 것이다 보니 답변이 구체적이고 정확하기 어려운 애로사항이 있는 점 양해요청드립니다. 2. 시어머니 및 배우자의 폭행, 배우자의 자녀 양육책임의 방치, 교도소 수감 등으로 어려움을 겪고 계신 상황에서 이혼 소송을 준비하고 계신 상황으로 보입니다. 3. 질의하신 상황과 같이 배우자나 시어머니의 폭행, 교도소 수감 등으로 인한 가족들의 방치 행위는 재판상 이혼 사유가 됩니다. 다만, 재판상 이혼 소송의 경우 혼인생활 상황, 자녀 상황 등에 대한 확인, 가족관계 서류 준비 등이 필요합니다. 가급적 신속하게 가족이나 혼인생활 관련 서류가 있는 경우(없는 경우 우선 면접 예약을 통해 상담을 받으신 후 준비하실 수 있습니다.) 이를 지참하시어 가까운 법률구조공단을 방문하시어 면접상담을 받아보시기를 권유드립니다. 면접상담 예약은 저희 법률구조공단 홈페이지나 국번없이 132 전화 등을 통해 가능하며, 가까운 법률구조공단을 내방하여 예약을 하실 수 있습니다. 4. 우리 공단은 방문하시는 모든 분들에게 무료로 법률상담서비스를 제공하고 있으며, 소송이 필요하신 경우에는 중위소득 125% 이하의 국민 및 국내거주 외국인을 대상으로 민사, 가사 소송대리 등의 법률구조서비스도 제공하고 있습니다. 사건조사를 통해 소송을 진행하기로 구조결정한 사건은 우리 공단을 통해 소송진행이 가능하며,\\n\\n\"바베큐 시설과 수영장이 딸린 독채펜션을 예약했는데, 막상 가보니 설명들었던 것과 전혀 다르더라고요. 펜션 주인에게 항의했지만 묵묵부답입니다. 이런 경우 어떻게 해야 하나요?\",,\"숙박시설 사업자와 분쟁이 발생한 경우 한국소비자원을 통해 소비자상담을 받거나 피해구제 또는 분쟁조정을 신청해 해결방법을 찾아볼 수 있고, 관광불편신고센터 또는 여행불편처리센터에 신고할 수도 있습니다.\"\\n\"주식을 매도하여 양도소득이 발생하면, 양도소득세를 내야 하나요?\",,\"상장법인의 주식을 양도하는 경우 모두 양도소득세 과세대상이 되는 것이 아니라, 대주주가 주식을 양도하는 경우에 한하여 양도소득세를 내야 합니다. 다만, 대주주가 아니더라도 증권시장 밖에서 주식을 양도하는 경우에는 양도소득세 과세대상이 됩니다.\"\\n해외직구로 짝퉁(지식재산권을 침해하는 물품)을 구매해도 되나요?,,\"아니오. 짝퉁 등 지식재산권 침해물품은 용도와 수량에 관계없이 수출입이 전면 금지되며, 통관단계에서 위조품 확인 시 폐기됩니다. 또한 고의적인 반복 반입이 의심될 경우 관련법에 따라 처벌받을 수 있습니다.\"\\n\"기간산업분야에서 산업기능요원으로 군복무를 할 수 있다고 들었는데요, 산업기능요원의 자격요건이 어떻게 되나요?\",,\"특정한 분야에서 복무하고 있거나 기술자격 또는 면허 등이 있는 사람이 원할 경우, 산업기능요원으로 편입할 수 있습니다.\"\\n\"노인학대신고 및 학대 사례가 증가하고 있다는 뉴스를 보았습니다. 노인학대는 주로 어디서, 어떻게 발생하나요?\",,\"노인학대는 주로 가정 또는 시설에서 신체적 정서적 학대 형태로 발생하고 있습니다. 발생하는 공간에 따라 가정학대 외에도 최근 복지시설에서 시설관련 종사자 등에 의해 발생하는 시설학대도 증가하고 있으며, 학대의 대부분은 신체적 정서적 학대 형태로 나타나고 있습니다.\"', name='law_qna_retriever', id='e25de3b2-1348-44a3-9fc8-e02cd079d55d', tool_call_id='call_pjrdjMeZ1nBRZSwZO4AWkeTS')]}}\n",
      "----\n",
      "{'agent': {'messages': [AIMessage(content='뉴진스 사태에 대한 정보를 찾지 못했습니다. 뉴진스 사태에 대해 자세한 내용이 필요하시다면 해당 사건에 대한 기사나 보도 자료를 찾아보시는 것을 권장드립니다. 또는 다른 법률 및 법규에 관련된 질문이 있으시면 도와드리겠습니다.', response_metadata={'token_usage': {'completion_tokens': 114, 'prompt_tokens': 9764, 'total_tokens': 9878}, 'model_name': 'gpt-3.5-turbo-0125', 'system_fingerprint': None, 'finish_reason': 'stop', 'logprobs': None}, id='run-3e679a3f-255d-4e0b-a839-805230e0fadd-0')]}}\n",
      "----\n"
     ]
    }
   ],
   "source": [
    "query = \"뉴진스 사태는\"\n",
    "\n",
    "for s in agent_executor.stream(\n",
    "    {\"messages\": [HumanMessage(content=query)]}, config=config\n",
    "):\n",
    "    print(s)\n",
    "    print(\"----\")"
   ]
  },
  {
   "cell_type": "code",
   "execution_count": null,
   "metadata": {},
   "outputs": [],
   "source": []
  }
 ],
 "metadata": {
  "kernelspec": {
   "display_name": "lc_rag",
   "language": "python",
   "name": "python3"
  },
  "language_info": {
   "codemirror_mode": {
    "name": "ipython",
    "version": 3
   },
   "file_extension": ".py",
   "mimetype": "text/x-python",
   "name": "python",
   "nbconvert_exporter": "python",
   "pygments_lexer": "ipython3",
   "version": "3.11.5"
  }
 },
 "nbformat": 4,
 "nbformat_minor": 2
}
